{
 "metadata": {
  "name": "",
  "signature": "sha256:16e00e09190ac217c16bd26adc58b3e78064e6681d90f3068c4037d82bafe2a6"
 },
 "nbformat": 3,
 "nbformat_minor": 0,
 "worksheets": []
}