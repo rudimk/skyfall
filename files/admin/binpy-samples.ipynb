{
 "metadata": {
  "name": "",
  "signature": "sha256:b375d89be20d95dfde3581a3d24e30ae6c425e397529ac4fc1422a660c6efa36"
 },
 "nbformat": 3,
 "nbformat_minor": 0,
 "worksheets": [
  {
   "cells": [
    {
     "cell_type": "code",
     "collapsed": false,
     "input": [
      "!pip install https://github.com/BinPy/BinPy/zipball/master"
     ],
     "language": "python",
     "metadata": {},
     "outputs": [
      {
       "output_type": "stream",
       "stream": "stdout",
       "text": [
        "Downloading/unpacking https://github.com/BinPy/BinPy/zipball/master\r\n"
       ]
      },
      {
       "output_type": "stream",
       "stream": "stdout",
       "text": [
        "  Downloading master (unknown size): \r",
        "  Downloading master (unknown size): 4.1kB\r",
        "  Downloading master (unknown size): 8.2kB\r",
        "  Downloading master (unknown size): 12kB "
       ]
      },
      {
       "output_type": "stream",
       "stream": "stdout",
       "text": [
        "\r",
        "  Downloading master (unknown size): 16kB\r",
        "  Downloading master (unknown size): 20kB\r",
        "  Downloading master (unknown size): 24kB\r",
        "  Downloading master (unknown size): 28kB"
       ]
      },
      {
       "output_type": "stream",
       "stream": "stdout",
       "text": [
        "\r",
        "  Downloading master (unknown size): 32kB\r",
        "  Downloading master (unknown size): 36kB\r",
        "  Downloading master (unknown size): 40kB\r",
        "  Downloading master (unknown size): 45kB\r",
        "  Downloading master (unknown size): 49kB\r",
        "  Downloading master (unknown size): 53kB"
       ]
      },
      {
       "output_type": "stream",
       "stream": "stdout",
       "text": [
        "\r",
        "  Downloading master (unknown size): 57kB\r",
        "  Downloading master (unknown size): 61kB\r",
        "  Downloading master (unknown size): 65kB\r",
        "  Downloading master (unknown size): 69kB\r",
        "  Downloading master (unknown size): 73kB"
       ]
      },
      {
       "output_type": "stream",
       "stream": "stdout",
       "text": [
        "\r",
        "  Downloading master (unknown size): 77kB\r",
        "  Downloading master (unknown size): 81kB\r",
        "  Downloading master (unknown size): 86kB\r",
        "  Downloading master (unknown size): 90kB\r",
        "  Downloading master (unknown size): 94kB\r",
        "  Downloading master (unknown size): 98kB\r",
        "  Downloading master (unknown size): 102kB\r",
        "  Downloading master (unknown size): 106kB\r",
        "  Downloading master (unknown size): 110kB"
       ]
      },
      {
       "output_type": "stream",
       "stream": "stdout",
       "text": [
        "\r",
        "  Downloading master (unknown size): 114kB\r",
        "  Downloading master (unknown size): 118kB\r",
        "  Downloading master (unknown size): 122kB\r",
        "  Downloading master (unknown size): 126kB\r",
        "  Downloading master (unknown size): 131kB\r",
        "  Downloading master (unknown size): 135kB\r",
        "  Downloading master (unknown size): 139kB\r",
        "  Downloading master (unknown size): 143kB\r",
        "  Downloading master (unknown size): 147kB"
       ]
      },
      {
       "output_type": "stream",
       "stream": "stdout",
       "text": [
        "\r",
        "  Downloading master (unknown size): 151kB\r",
        "  Downloading master (unknown size): 155kB\r",
        "  Downloading master (unknown size): 159kB\r",
        "  Downloading master (unknown size): 163kB\r",
        "  Downloading master (unknown size): 167kB\r",
        "  Downloading master (unknown size): 172kB\r",
        "  Downloading master (unknown size): 176kB"
       ]
      },
      {
       "output_type": "stream",
       "stream": "stdout",
       "text": [
        "\r",
        "  Downloading master (unknown size): 180kB\r",
        "  Downloading master (unknown size): 184kB\r",
        "  Downloading master (unknown size): 188kB\r",
        "  Downloading master (unknown size): 192kB\r",
        "  Downloading master (unknown size): 196kB\r",
        "  Downloading master (unknown size): 200kB\r",
        "  Downloading master (unknown size): 204kB\r",
        "  Downloading master (unknown size): 208kB\r",
        "  Downloading master (unknown size): 212kB\r",
        "  Downloading master (unknown size): 217kB\r",
        "  Downloading master (unknown size): 221kB"
       ]
      },
      {
       "output_type": "stream",
       "stream": "stdout",
       "text": [
        "\r",
        "  Downloading master (unknown size): 225kB\r",
        "  Downloading master (unknown size): 229kB\r",
        "  Downloading master (unknown size): 233kB\r",
        "  Downloading master (unknown size): 237kB\r",
        "  Downloading master (unknown size): 241kB\r",
        "  Downloading master (unknown size): 245kB\r",
        "  Downloading master (unknown size): 249kB\r",
        "  Downloading master (unknown size): 253kB"
       ]
      },
      {
       "output_type": "stream",
       "stream": "stdout",
       "text": [
        "\r",
        "  Downloading master (unknown size): 258kB\r",
        "  Downloading master (unknown size): 262kB\r",
        "  Downloading master (unknown size): 266kB\r",
        "  Downloading master (unknown size): 270kB\r",
        "  Downloading master (unknown size): 274kB\r",
        "  Downloading master (unknown size): 278kB\r",
        "  Downloading master (unknown size): 282kB\r",
        "  Downloading master (unknown size): 286kB\r",
        "  Downloading master (unknown size): 290kB\r",
        "  Downloading master (unknown size): 294kB\r",
        "  Downloading master (unknown size): 299kB\r",
        "  Downloading master (unknown size): 303kB\r",
        "  Downloading master (unknown size): 307kB"
       ]
      },
      {
       "output_type": "stream",
       "stream": "stdout",
       "text": [
        "\r",
        "  Downloading master (unknown size): 311kB\r",
        "  Downloading master (unknown size): 315kB\r",
        "  Downloading master (unknown size): 319kB\r",
        "  Downloading master (unknown size): 323kB\r",
        "  Downloading master (unknown size): 327kB\r",
        "  Downloading master (unknown size): 331kB\r",
        "  Downloading master (unknown size): 335kB\r",
        "  Downloading master (unknown size): 339kB\r",
        "  Downloading master (unknown size): 344kB"
       ]
      },
      {
       "output_type": "stream",
       "stream": "stdout",
       "text": [
        "\r",
        "  Downloading master (unknown size): 348kB\r",
        "  Downloading master (unknown size): 352kB\r",
        "  Downloading master (unknown size): 356kB\r",
        "  Downloading master (unknown size): 360kB\r",
        "  Downloading master (unknown size): 364kB\r",
        "  Downloading master (unknown size): 368kB\r",
        "  Downloading master (unknown size): 372kB\r",
        "  Downloading master (unknown size): 376kB\r",
        "  Downloading master (unknown size): 380kB\r",
        "  Downloading master (unknown size): 385kB\r",
        "  Downloading master (unknown size): 389kB\r",
        "  Downloading master (unknown size): 393kB\r",
        "  Downloading master (unknown size): 397kB"
       ]
      },
      {
       "output_type": "stream",
       "stream": "stdout",
       "text": [
        "\r",
        "  Downloading master (unknown size): 401kB\r",
        "  Downloading master (unknown size): 405kB\r",
        "  Downloading master (unknown size): 409kB\r",
        "  Downloading master (unknown size): 413kB\r",
        "  Downloading master (unknown size): 417kB\r",
        "  Downloading master (unknown size): 421kB\r",
        "  Downloading master (unknown size): 425kB\r",
        "  Downloading master (unknown size): 430kB\r",
        "  Downloading master (unknown size): 434kB\r",
        "  Downloading master (unknown size): 438kB\r",
        "  Downloading master (unknown size): 442kB\r",
        "  Downloading master (unknown size): 446kB\r",
        "  Downloading master (unknown size): 450kB\r",
        "  Downloading master (unknown size): 454kB"
       ]
      },
      {
       "output_type": "stream",
       "stream": "stdout",
       "text": [
        "\r",
        "  Downloading master (unknown size): 458kB\r",
        "  Downloading master (unknown size): 462kB\r",
        "  Downloading master (unknown size): 466kB\r",
        "  Downloading master (unknown size): 467kB\r",
        "  Downloading master (unknown size):      \r",
        "  Downloading master (unknown size): 467kB downloaded\r\n"
       ]
      },
      {
       "output_type": "stream",
       "stream": "stdout",
       "text": [
        "  Running setup.py (path:/tmp/pip-mdf7x9-build/setup.py) egg_info for package from https://github.com/BinPy/BinPy/zipball/master\r\n"
       ]
      },
      {
       "output_type": "stream",
       "stream": "stdout",
       "text": [
        "    \r\n"
       ]
      },
      {
       "output_type": "stream",
       "stream": "stdout",
       "text": [
        "Installing collected packages: BinPy\r\n",
        "  Running setup.py install for BinPy\r\n"
       ]
      },
      {
       "output_type": "stream",
       "stream": "stdout",
       "text": [
        "    \r\n"
       ]
      },
      {
       "output_type": "stream",
       "stream": "stdout",
       "text": [
        "    Installing binpy script to /usr/local/bin\r\n"
       ]
      },
      {
       "output_type": "stream",
       "stream": "stdout",
       "text": [
        "Successfully installed BinPy\r\n",
        "Cleaning up...\r\n"
       ]
      }
     ],
     "prompt_number": 1
    },
    {
     "cell_type": "code",
     "collapsed": false,
     "input": [
      "from BinPy import *"
     ],
     "language": "python",
     "metadata": {},
     "outputs": [],
     "prompt_number": 2
    },
    {
     "cell_type": "code",
     "collapsed": false,
     "input": [
      "# Connector for connecting output of second NOR gate with input of first NOR gate\n",
      "con1 = Connector()\n",
      "# Connector for connecting output of first NOR gate with input of second NOR gate\n",
      "con2 = Connector()\n",
      "\n",
      "R = 0 # Reset input for the SR-Latch\n",
      "S = 0 # Set input for the SR-Lacth\n",
      "\n",
      "NOR1 = NOR(con1, R)  #First NOR gate\n",
      "NOR1.setOutput(con2) # Set output for NOR gate\n",
      "\n",
      "NOR2 = NOR(con2, S)  #Second NOR gate\n",
      "NOR2.setOutput(con1) # Set output for NOR gate"
     ],
     "language": "python",
     "metadata": {},
     "outputs": [],
     "prompt_number": 3
    },
    {
     "cell_type": "code",
     "collapsed": false,
     "input": [
      "NOR1.setInput(1, 1); NOR2.setInput(1, 0) #Set state\n",
      "print 'Q: ',NOR2.output(), '\\t','Q\\': ',NOR1.output()\n",
      "\n",
      "\n",
      "NOR1.setInput(1, 0); NOR2.setInput(1, 1) #Reset state\n",
      "print 'Q: ',NOR2.output(), '\\t','Q\\': ',NOR1.output()\n",
      "\n",
      "\n",
      "NOR1.setInput(1, 0); NOR2.setInput(1, 0) #Hold state\n",
      "print 'Q: ',NOR2.output(), '\\t','Q\\': ',NOR1.output()\n",
      "\n",
      "\n",
      "NOR1.setInput(1, 1); NOR2.setInput(1, 1) #Invalid state\n",
      "print 'Q: ',NOR2.output(), '\\t','Q\\': ',NOR1.output()"
     ],
     "language": "python",
     "metadata": {},
     "outputs": [
      {
       "output_type": "stream",
       "stream": "stdout",
       "text": [
        "Q:  1 \tQ':  0\n",
        "Q:  0 \tQ':  1\n",
        "Q:  0 \tQ':  1\n",
        "Q:  0 \tQ':  0\n"
       ]
      }
     ],
     "prompt_number": 5
    },
    {
     "cell_type": "code",
     "collapsed": false,
     "input": [
      "# Operations\n",
      "operator = Operations()\n",
      "operator.ADD(1011,11)\n",
      "operator.SUB(1011,11)\n",
      "operator.COMP('0011',1) #Second argument chooses betweem 1's or 2's Compliment\n",
      "\n",
      "\n",
      "# Combinational Logic\n",
      "m = MUX(1,1,0,1)\n",
      "m.selectLines(0,1)\n",
      "print \"MUX Out: \", m.output()\n",
      "'''\n",
      "d = DEMUX()\n",
      "d.selectLines(0,1)\n",
      "print \"DEMUX Out: \", d.output()\n",
      "'''\n",
      "d = Decoder(0,1)\n",
      "print \"Decoder Out: \", d.output()\n",
      "\n",
      "e = Encoder(0,1,0,0)\n",
      "print \"Encoder Out: \", e.output()\n",
      "\n",
      "# Sequential Circuits\n",
      "a = DFlipFlop(1,0)\n",
      "print \"DFlipFlop Out: \", a.output()\n",
      "\n",
      "# IC\n",
      "myIC = IC_7400()\n",
      "p = {1:1,2:0,4:0,5:0,7:0,10:1,9:1,13:0,12:0,14:1}\n",
      "myIC.setIC(p)\n",
      "print \"IC_7400 Out: \", myIC.run()\n",
      "\n",
      "myIC1 = IC_7401()\n",
      "p = {2:0,3:1,5:0,6:0,7:0,8:1,9:1,11:0,12:0,14:1}\n",
      "myIC1.setIC(p)\n",
      "print \"IC_7401 Out: \", myIC1.run()\n",
      "\n",
      "# Algorithms\n",
      "# Includes the Quine-McCluskey algorithm for solving K-Maps\n",
      "FinalEquation = QM(['A','B'])\n",
      "print \"Minimized Boolean Equation : \" , FinalEquation.get_function(qm.solve([0,1,2],[])[1])"
     ],
     "language": "python",
     "metadata": {},
     "outputs": [
      {
       "output_type": "stream",
       "stream": "stdout",
       "text": [
        "MUX Out:  1\n",
        "Decoder Out:  [0, 1, 0, 0]\n",
        "Encoder Out:  [0, 1]\n"
       ]
      },
      {
       "ename": "TypeError",
       "evalue": "__init__() takes at least 4 arguments (3 given)",
       "output_type": "pyerr",
       "traceback": [
        "\u001b[1;31m---------------------------------------------------------------------------\u001b[0m\n\u001b[1;31mTypeError\u001b[0m                                 Traceback (most recent call last)",
        "\u001b[1;32m<ipython-input-9-740823262bdd>\u001b[0m in \u001b[0;36m<module>\u001b[1;34m()\u001b[0m\n\u001b[0;32m     22\u001b[0m \u001b[1;33m\u001b[0m\u001b[0m\n\u001b[0;32m     23\u001b[0m \u001b[1;31m# Sequential Circuits\u001b[0m\u001b[1;33m\u001b[0m\u001b[1;33m\u001b[0m\u001b[0m\n\u001b[1;32m---> 24\u001b[1;33m \u001b[0ma\u001b[0m \u001b[1;33m=\u001b[0m \u001b[0mDFlipFlop\u001b[0m\u001b[1;33m(\u001b[0m\u001b[1;36m1\u001b[0m\u001b[1;33m,\u001b[0m\u001b[1;36m0\u001b[0m\u001b[1;33m)\u001b[0m\u001b[1;33m\u001b[0m\u001b[0m\n\u001b[0m\u001b[0;32m     25\u001b[0m \u001b[1;32mprint\u001b[0m \u001b[1;34m\"DFlipFlop Out: \"\u001b[0m\u001b[1;33m,\u001b[0m \u001b[0ma\u001b[0m\u001b[1;33m.\u001b[0m\u001b[0moutput\u001b[0m\u001b[1;33m(\u001b[0m\u001b[1;33m)\u001b[0m\u001b[1;33m\u001b[0m\u001b[0m\n\u001b[0;32m     26\u001b[0m \u001b[1;33m\u001b[0m\u001b[0m\n",
        "\u001b[1;31mTypeError\u001b[0m: __init__() takes at least 4 arguments (3 given)"
       ]
      }
     ],
     "prompt_number": 9
    },
    {
     "cell_type": "code",
     "collapsed": false,
     "input": [
      "!pip install https://github.com/ahkab/ahkab.git"
     ],
     "language": "python",
     "metadata": {},
     "outputs": [
      {
       "output_type": "stream",
       "stream": "stdout",
       "text": [
        "Downloading/unpacking https://github.com/ahkab/ahkab.git\r\n"
       ]
      },
      {
       "output_type": "stream",
       "stream": "stdout",
       "text": [
        "  Downloading ahkab.git (unknown size): \r",
        "  Downloading ahkab.git (unknown size): 4.1kB\r",
        "  Downloading ahkab.git (unknown size): 8.2kB"
       ]
      },
      {
       "output_type": "stream",
       "stream": "stdout",
       "text": [
        "\r",
        "  Downloading ahkab.git (unknown size): 12kB \r",
        "  Downloading ahkab.git (unknown size): 14kB\r",
        "  Downloading ahkab.git (unknown size):     \r",
        "  Downloading ahkab.git (unknown size): 14kB downloaded\r\n",
        "Cleaning up...\r\n"
       ]
      },
      {
       "output_type": "stream",
       "stream": "stdout",
       "text": [
        "\u001b[31mException:\r\n",
        "Traceback (most recent call last):\r\n",
        "  File \"/usr/local/lib/python2.7/dist-packages/pip/basecommand.py\", line 122, in main\r\n",
        "    status = self.run(options, args)\r\n",
        "  File \"/usr/local/lib/python2.7/dist-packages/pip/commands/install.py\", line 278, in run\r\n",
        "    requirement_set.prepare_files(finder, force_root_egg_info=self.bundle, bundle=self.bundle)\r\n",
        "  File \"/usr/local/lib/python2.7/dist-packages/pip/req.py\", line 1197, in prepare_files\r\n",
        "    do_download,\r\n",
        "  File \"/usr/local/lib/python2.7/dist-packages/pip/req.py\", line 1375, in unpack_url\r\n",
        "    self.session,\r\n",
        "  File \"/usr/local/lib/python2.7/dist-packages/pip/download.py\", line 582, in unpack_http_url\r\n",
        "    unpack_file(temp_location, location, content_type, link)\r\n",
        "  File \"/usr/local/lib/python2.7/dist-packages/pip/util.py\", line 627, in unpack_file\r\n",
        "    and is_svn_page(file_contents(filename))):\r\n",
        "  File \"/usr/local/lib/python2.7/dist-packages/pip/util.py\", line 210, in file_contents\r\n",
        "    return fp.read().decode('utf-8')\r\n",
        "  File \"/usr/lib/python2.7/encodings/utf_8.py\", line 16, in decode\r\n",
        "    return codecs.utf_8_decode(input, errors, True)\r\n",
        "UnicodeDecodeError: 'utf8' codec can't decode byte 0x8b in position 1: invalid start byte\r\n",
        "\r\n",
        "\u001b[0m\u001b[31mStoring debug log for failure in /root/.pip/pip.log\r\n",
        "\u001b[0m"
       ]
      }
     ],
     "prompt_number": 11
    },
    {
     "cell_type": "code",
     "collapsed": false,
     "input": [
      "!git clone https://github.com/ahkab/ahkab.git"
     ],
     "language": "python",
     "metadata": {},
     "outputs": [
      {
       "output_type": "stream",
       "stream": "stdout",
       "text": [
        "Cloning into 'ahkab'...\r\n"
       ]
      },
      {
       "output_type": "stream",
       "stream": "stdout",
       "text": [
        "remote: Counting objects: 3358, done.\u001b[K\r\n"
       ]
      },
      {
       "output_type": "stream",
       "stream": "stdout",
       "text": [
        "Receiving objects:   0% (1/3358)   \r",
        "Receiving objects:   1% (34/3358)   \r",
        "Receiving objects:   2% (68/3358)   \r"
       ]
      },
      {
       "output_type": "stream",
       "stream": "stdout",
       "text": [
        "Receiving objects:   3% (101/3358)   \r",
        "Receiving objects:   4% (135/3358)   \r",
        "Receiving objects:   5% (168/3358)   \r",
        "Receiving objects:   6% (202/3358)   \r"
       ]
      },
      {
       "output_type": "stream",
       "stream": "stdout",
       "text": [
        "Receiving objects:   7% (236/3358)   \r"
       ]
      },
      {
       "output_type": "stream",
       "stream": "stdout",
       "text": [
        "Receiving objects:   8% (269/3358)   \r",
        "Receiving objects:   9% (303/3358)   \r",
        "Receiving objects:  10% (336/3358)   \r"
       ]
      },
      {
       "output_type": "stream",
       "stream": "stdout",
       "text": [
        "Receiving objects:  11% (370/3358)   \r"
       ]
      },
      {
       "output_type": "stream",
       "stream": "stdout",
       "text": [
        "Receiving objects:  12% (403/3358)   \r",
        "Receiving objects:  13% (437/3358)   \r",
        "Receiving objects:  14% (471/3358)   \r"
       ]
      },
      {
       "output_type": "stream",
       "stream": "stdout",
       "text": [
        "Receiving objects:  15% (504/3358)   \r",
        "Receiving objects:  16% (538/3358)   \r",
        "Receiving objects:  17% (571/3358)   \r",
        "Receiving objects:  18% (605/3358)   \r",
        "Receiving objects:  19% (639/3358)   \r",
        "Receiving objects:  20% (672/3358)   \r"
       ]
      },
      {
       "output_type": "stream",
       "stream": "stdout",
       "text": [
        "Receiving objects:  21% (706/3358)   \r"
       ]
      },
      {
       "output_type": "stream",
       "stream": "stdout",
       "text": [
        "Receiving objects:  22% (739/3358), 204.00 KiB | 368 KiB/s   \r"
       ]
      },
      {
       "output_type": "stream",
       "stream": "stdout",
       "text": [
        "Receiving objects:  23% (773/3358), 204.00 KiB | 368 KiB/s   \r"
       ]
      },
      {
       "output_type": "stream",
       "stream": "stdout",
       "text": [
        "Receiving objects:  24% (806/3358), 204.00 KiB | 368 KiB/s   \r"
       ]
      },
      {
       "output_type": "stream",
       "stream": "stdout",
       "text": [
        "Receiving objects:  24% (835/3358), 204.00 KiB | 368 KiB/s   \r"
       ]
      },
      {
       "output_type": "stream",
       "stream": "stdout",
       "text": [
        "Receiving objects:  25% (840/3358), 620.00 KiB | 588 KiB/s   \r"
       ]
      },
      {
       "output_type": "stream",
       "stream": "stdout",
       "text": [
        "Receiving objects:  26% (874/3358), 620.00 KiB | 588 KiB/s   \r"
       ]
      },
      {
       "output_type": "stream",
       "stream": "stdout",
       "text": [
        "Receiving objects:  27% (907/3358), 620.00 KiB | 588 KiB/s   \r"
       ]
      },
      {
       "output_type": "stream",
       "stream": "stdout",
       "text": [
        "Receiving objects:  28% (941/3358), 1.25 MiB | 826 KiB/s   \r",
        "Receiving objects:  29% (974/3358), 1.25 MiB | 826 KiB/s   \r"
       ]
      },
      {
       "output_type": "stream",
       "stream": "stdout",
       "text": [
        "Receiving objects:  30% (1008/3358), 1.25 MiB | 826 KiB/s   \r",
        "Receiving objects:  31% (1041/3358), 1.25 MiB | 826 KiB/s   \r"
       ]
      },
      {
       "output_type": "stream",
       "stream": "stdout",
       "text": [
        "Receiving objects:  31% (1057/3358), 1.25 MiB | 826 KiB/s   \r"
       ]
      },
      {
       "output_type": "stream",
       "stream": "stdout",
       "text": [
        "Receiving objects:  32% (1075/3358), 1.95 MiB | 950 KiB/s   \r"
       ]
      },
      {
       "output_type": "stream",
       "stream": "stdout",
       "text": [
        "Receiving objects:  33% (1109/3358), 1.95 MiB | 950 KiB/s   \r"
       ]
      },
      {
       "output_type": "stream",
       "stream": "stdout",
       "text": [
        "Receiving objects:  34% (1142/3358), 1.95 MiB | 950 KiB/s   \r"
       ]
      },
      {
       "output_type": "stream",
       "stream": "stdout",
       "text": [
        "Receiving objects:  35% (1176/3358), 1.95 MiB | 950 KiB/s   \r"
       ]
      },
      {
       "output_type": "stream",
       "stream": "stdout",
       "text": [
        "Receiving objects:  36% (1209/3358), 1.95 MiB | 950 KiB/s   \r"
       ]
      },
      {
       "output_type": "stream",
       "stream": "stdout",
       "text": [
        "Receiving objects:  37% (1243/3358), 1.95 MiB | 950 KiB/s   \r"
       ]
      },
      {
       "output_type": "stream",
       "stream": "stdout",
       "text": [
        "Receiving objects:  38% (1277/3358), 1.95 MiB | 950 KiB/s   \r",
        "Receiving objects:  39% (1310/3358), 1.95 MiB | 950 KiB/s   \r",
        "Receiving objects:  40% (1344/3358), 1.95 MiB | 950 KiB/s   \r",
        "Receiving objects:  41% (1377/3358), 1.95 MiB | 950 KiB/s   \r",
        "Receiving objects:  42% (1411/3358), 1.95 MiB | 950 KiB/s   \r",
        "Receiving objects:  43% (1444/3358), 1.95 MiB | 950 KiB/s   \r",
        "Receiving objects:  44% (1478/3358), 1.95 MiB | 950 KiB/s   \r",
        "Receiving objects:  45% (1512/3358), 1.95 MiB | 950 KiB/s   \r",
        "Receiving objects:  46% (1545/3358), 1.95 MiB | 950 KiB/s   \r",
        "Receiving objects:  47% (1579/3358), 1.95 MiB | 950 KiB/s   \r"
       ]
      },
      {
       "output_type": "stream",
       "stream": "stdout",
       "text": [
        "Receiving objects:  48% (1612/3358), 2.95 MiB | 1.11 MiB/s   \r",
        "Receiving objects:  49% (1646/3358), 2.95 MiB | 1.11 MiB/s   \r",
        "Receiving objects:  50% (1679/3358), 2.95 MiB | 1.11 MiB/s   \r"
       ]
      },
      {
       "output_type": "stream",
       "stream": "stdout",
       "text": [
        "Receiving objects:  51% (1713/3358), 2.95 MiB | 1.11 MiB/s   \r",
        "Receiving objects:  52% (1747/3358), 2.95 MiB | 1.11 MiB/s   \r",
        "Receiving objects:  53% (1780/3358), 2.95 MiB | 1.11 MiB/s   \r"
       ]
      },
      {
       "output_type": "stream",
       "stream": "stdout",
       "text": [
        "Receiving objects:  54% (1814/3358), 2.95 MiB | 1.11 MiB/s   \r",
        "Receiving objects:  55% (1847/3358), 2.95 MiB | 1.11 MiB/s   \r",
        "Receiving objects:  56% (1881/3358), 2.95 MiB | 1.11 MiB/s   \r",
        "Receiving objects:  57% (1915/3358), 2.95 MiB | 1.11 MiB/s   \r"
       ]
      },
      {
       "output_type": "stream",
       "stream": "stdout",
       "text": [
        "Receiving objects:  58% (1948/3358), 2.95 MiB | 1.11 MiB/s   \r",
        "Receiving objects:  59% (1982/3358), 2.95 MiB | 1.11 MiB/s   \r",
        "Receiving objects:  60% (2015/3358), 2.95 MiB | 1.11 MiB/s   \r",
        "Receiving objects:  61% (2049/3358), 2.95 MiB | 1.11 MiB/s   \r",
        "Receiving objects:  62% (2082/3358), 2.95 MiB | 1.11 MiB/s   \r",
        "Receiving objects:  63% (2116/3358), 2.95 MiB | 1.11 MiB/s   \r"
       ]
      },
      {
       "output_type": "stream",
       "stream": "stdout",
       "text": [
        "Receiving objects:  63% (2121/3358), 2.95 MiB | 1.11 MiB/s   \r",
        "Receiving objects:  64% (2150/3358), 2.95 MiB | 1.11 MiB/s   \r",
        "Receiving objects:  65% (2183/3358), 2.95 MiB | 1.11 MiB/s   \r"
       ]
      },
      {
       "output_type": "stream",
       "stream": "stdout",
       "text": [
        "Receiving objects:  66% (2217/3358), 2.95 MiB | 1.11 MiB/s   \r",
        "Receiving objects:  67% (2250/3358), 2.95 MiB | 1.11 MiB/s   \r",
        "Receiving objects:  68% (2284/3358), 2.95 MiB | 1.11 MiB/s   \r",
        "Receiving objects:  69% (2318/3358), 2.95 MiB | 1.11 MiB/s   \r",
        "Receiving objects:  70% (2351/3358), 2.95 MiB | 1.11 MiB/s   \r",
        "Receiving objects:  71% (2385/3358), 2.95 MiB | 1.11 MiB/s   \r",
        "Receiving objects:  72% (2418/3358), 2.95 MiB | 1.11 MiB/s   \r",
        "Receiving objects:  73% (2452/3358), 2.95 MiB | 1.11 MiB/s   \r"
       ]
      },
      {
       "output_type": "stream",
       "stream": "stdout",
       "text": [
        "Receiving objects:  74% (2485/3358), 5.52 MiB | 1.75 MiB/s   \r",
        "Receiving objects:  75% (2519/3358), 5.52 MiB | 1.75 MiB/s   \r",
        "Receiving objects:  76% (2553/3358), 5.52 MiB | 1.75 MiB/s   \r",
        "Receiving objects:  77% (2586/3358), 5.52 MiB | 1.75 MiB/s   \r",
        "Receiving objects:  78% (2620/3358), 5.52 MiB | 1.75 MiB/s   \r",
        "Receiving objects:  79% (2653/3358), 5.52 MiB | 1.75 MiB/s   \r",
        "Receiving objects:  80% (2687/3358), 5.52 MiB | 1.75 MiB/s   \r",
        "Receiving objects:  81% (2720/3358), 5.52 MiB | 1.75 MiB/s   \r",
        "Receiving objects:  82% (2754/3358), 5.52 MiB | 1.75 MiB/s   \r",
        "Receiving objects:  83% (2788/3358), 5.52 MiB | 1.75 MiB/s   \r",
        "Receiving objects:  84% (2821/3358), 5.52 MiB | 1.75 MiB/s   \r",
        "Receiving objects:  85% (2855/3358), 5.52 MiB | 1.75 MiB/s   \r",
        "Receiving objects:  86% (2888/3358), 5.52 MiB | 1.75 MiB/s   \r",
        "Receiving objects:  87% (2922/3358), 5.52 MiB | 1.75 MiB/s   \r",
        "Receiving objects:  88% (2956/3358), 5.52 MiB | 1.75 MiB/s   \r",
        "Receiving objects:  89% (2989/3358), 5.52 MiB | 1.75 MiB/s   \r",
        "Receiving objects:  90% (3023/3358), 5.52 MiB | 1.75 MiB/s   \r",
        "Receiving objects:  91% (3056/3358), 5.52 MiB | 1.75 MiB/s   \r",
        "Receiving objects:  92% (3090/3358), 5.52 MiB | 1.75 MiB/s   \r",
        "Receiving objects:  93% (3123/3358), 5.52 MiB | 1.75 MiB/s   \r",
        "Receiving objects:  94% (3157/3358), 5.52 MiB | 1.75 MiB/s   \r",
        "Receiving objects:  95% (3191/3358), 5.52 MiB | 1.75 MiB/s   \r",
        "Receiving objects:  96% (3224/3358), 5.52 MiB | 1.75 MiB/s   \r",
        "Receiving objects:  97% (3258/3358), 5.52 MiB | 1.75 MiB/s   \r",
        "Receiving objects:  98% (3291/3358), 5.52 MiB | 1.75 MiB/s   \r"
       ]
      },
      {
       "output_type": "stream",
       "stream": "stdout",
       "text": [
        "Receiving objects:  99% (3325/3358), 5.52 MiB | 1.75 MiB/s   \r",
        "remote: Total 3358 (delta 0), reused 0 (delta 0)\u001b[K\r\n",
        "Receiving objects: 100% (3358/3358), 5.52 MiB | 1.75 MiB/s   \r",
        "Receiving objects: 100% (3358/3358), 6.06 MiB | 1.75 MiB/s, done.\r\n",
        "Resolving deltas:   0% (0/2077)   \r",
        "Resolving deltas:  11% (243/2077)   \r",
        "Resolving deltas:  12% (259/2077)   \r",
        "Resolving deltas:  14% (307/2077)   \r",
        "Resolving deltas:  15% (314/2077)   \r",
        "Resolving deltas:  16% (342/2077)   \r",
        "Resolving deltas:  17% (363/2077)   \r",
        "Resolving deltas:  18% (380/2077)   \r",
        "Resolving deltas:  19% (395/2077)   \r",
        "Resolving deltas:  20% (427/2077)   \r",
        "Resolving deltas:  22% (475/2077)   \r",
        "Resolving deltas:  23% (487/2077)   \r"
       ]
      },
      {
       "output_type": "stream",
       "stream": "stdout",
       "text": [
        "Resolving deltas:  24% (505/2077)   \r",
        "Resolving deltas:  25% (523/2077)   \r",
        "Resolving deltas:  26% (544/2077)   \r",
        "Resolving deltas:  29% (616/2077)   \r",
        "Resolving deltas:  31% (652/2077)   \r",
        "Resolving deltas:  32% (667/2077)   \r",
        "Resolving deltas:  33% (704/2077)   \r",
        "Resolving deltas:  34% (716/2077)   \r",
        "Resolving deltas:  35% (731/2077)   \r",
        "Resolving deltas:  36% (759/2077)   \r",
        "Resolving deltas:  37% (782/2077)   \r",
        "Resolving deltas:  38% (796/2077)   \r",
        "Resolving deltas:  39% (828/2077)   \r",
        "Resolving deltas:  40% (832/2077)   \r",
        "Resolving deltas:  41% (854/2077)   \r",
        "Resolving deltas:  42% (873/2077)   \r",
        "Resolving deltas:  44% (914/2077)   \r",
        "Resolving deltas:  45% (935/2077)   \r",
        "Resolving deltas:  46% (960/2077)   \r",
        "Resolving deltas:  47% (979/2077)   \r",
        "Resolving deltas:  48% (1001/2077)   \r",
        "Resolving deltas:  49% (1018/2077)   \r",
        "Resolving deltas:  50% (1042/2077)   \r"
       ]
      },
      {
       "output_type": "stream",
       "stream": "stdout",
       "text": [
        "Resolving deltas:  51% (1062/2077)   \r",
        "Resolving deltas:  52% (1089/2077)   \r",
        "Resolving deltas:  53% (1107/2077)   \r",
        "Resolving deltas:  58% (1223/2077)   \r",
        "Resolving deltas:  59% (1240/2077)   \r",
        "Resolving deltas:  60% (1262/2077)   \r",
        "Resolving deltas:  62% (1289/2077)   \r",
        "Resolving deltas:  63% (1313/2077)   \r",
        "Resolving deltas:  64% (1333/2077)   \r",
        "Resolving deltas:  65% (1364/2077)   \r",
        "Resolving deltas:  68% (1417/2077)   \r",
        "Resolving deltas:  70% (1462/2077)   \r",
        "Resolving deltas:  71% (1479/2077)   \r",
        "Resolving deltas:  73% (1530/2077)   \r",
        "Resolving deltas:  75% (1570/2077)   \r",
        "Resolving deltas:  76% (1579/2077)   \r",
        "Resolving deltas:  77% (1604/2077)   \r",
        "Resolving deltas:  78% (1631/2077)   \r",
        "Resolving deltas:  79% (1642/2077)   \r",
        "Resolving deltas:  80% (1665/2077)   \r",
        "Resolving deltas:  81% (1686/2077)   \r",
        "Resolving deltas:  84% (1761/2077)   \r",
        "Resolving deltas:  87% (1812/2077)   \r",
        "Resolving deltas:  90% (1880/2077)   \r",
        "Resolving deltas:  91% (1905/2077)   \r",
        "Resolving deltas:  92% (1911/2077)   \r",
        "Resolving deltas:  93% (1933/2077)   \r",
        "Resolving deltas:  95% (1974/2077)   \r",
        "Resolving deltas:  96% (2010/2077)   \r",
        "Resolving deltas:  97% (2015/2077)   \r",
        "Resolving deltas:  99% (2069/2077)   \r",
        "Resolving deltas: 100% (2077/2077)   \r",
        "Resolving deltas: 100% (2077/2077), done.\r\n"
       ]
      }
     ],
     "prompt_number": 12
    },
    {
     "cell_type": "code",
     "collapsed": false,
     "input": [
      "!cd ahkab/"
     ],
     "language": "python",
     "metadata": {},
     "outputs": [],
     "prompt_number": 13
    },
    {
     "cell_type": "code",
     "collapsed": false,
     "input": [
      "!ls -l"
     ],
     "language": "python",
     "metadata": {},
     "outputs": [
      {
       "output_type": "stream",
       "stream": "stdout",
       "text": [
        "total 812\r\n",
        "-rw-r--r-- 1 root root 176896 Jul  8 08:32 03-IntroScipy.ipynb\r\n",
        "-rw-r--r-- 1 root root 148447 Jul  8 08:32 04-IntroSymPy.ipynb\r\n",
        "-rw-r--r-- 1 root root  73006 Jul 23 11:41 Octave & R Samples.ipynb\r\n",
        "-rw-r--r-- 1 root root  22616 Jul  3 13:52 Untitled0.ipynb\r\n",
        "drwxr-xr-x 7 root root   4096 Jul 29 08:26 ahkab\r\n",
        "-rw-r--r-- 1 root root  17904 Jul 29 07:53 binpy-samples.ipynb\r\n",
        "-rw-r--r-- 1 root root  24792 Jul 24 09:20 csv-experiments.ipynb\r\n",
        "-rw-r--r-- 1 root root  10743 Jul  5 16:00 file-widget-demo.ipynb\r\n",
        "-rw-r--r-- 1 root root  13295 Jul 24 09:21 files-demo.ipynb\r\n",
        "-rw-r--r-- 1 root root  17362 Jul 24 11:09 sage_extension.py\r\n",
        "-rw-r--r-- 1 root root     15 Jul 24 11:12 testhashlib.sage\r\n",
        "-rw-r--r-- 1 root root 240735 Jul 24 11:15 theano-demo.ipynb\r\n",
        "-rw-r--r-- 1 root root  32807 Jul 24 09:16 woo-export_products-2014_07_18.csv\r\n"
       ]
      }
     ],
     "prompt_number": 14
    },
    {
     "cell_type": "code",
     "collapsed": false,
     "input": [
      "!cwd ahkab/"
     ],
     "language": "python",
     "metadata": {},
     "outputs": [
      {
       "output_type": "stream",
       "stream": "stdout",
       "text": [
        "/bin/sh: 1: cwd: not found\r\n"
       ]
      }
     ],
     "prompt_number": 15
    },
    {
     "cell_type": "code",
     "collapsed": false,
     "input": [
      "!python ahkab/setup.py install --prefix=~/.local"
     ],
     "language": "python",
     "metadata": {},
     "outputs": [
      {
       "output_type": "stream",
       "stream": "stdout",
       "text": [
        "Traceback (most recent call last):\r\n",
        "  File \"ahkab/setup.py\", line 6, in <module>\r\n",
        "    with open('ahkab/__version__.py') as version_file:\r\n",
        "IOError: [Errno 2] No such file or directory: 'ahkab/__version__.py'\r\n"
       ]
      }
     ],
     "prompt_number": 16
    },
    {
     "cell_type": "code",
     "collapsed": false,
     "input": [
      "import os\n",
      "os.getcwd()"
     ],
     "language": "python",
     "metadata": {},
     "outputs": [
      {
       "metadata": {},
       "output_type": "pyout",
       "prompt_number": 18,
       "text": [
        "'/root/skyfall/files/admin'"
       ]
      }
     ],
     "prompt_number": 18
    },
    {
     "cell_type": "code",
     "collapsed": false,
     "input": [
      "os.chdir('ahkab')"
     ],
     "language": "python",
     "metadata": {},
     "outputs": [],
     "prompt_number": 20
    },
    {
     "cell_type": "code",
     "collapsed": false,
     "input": [
      "os.getcwd()"
     ],
     "language": "python",
     "metadata": {},
     "outputs": [
      {
       "metadata": {},
       "output_type": "pyout",
       "prompt_number": 21,
       "text": [
        "'/root/skyfall/files/admin/ahkab'"
       ]
      }
     ],
     "prompt_number": 21
    },
    {
     "cell_type": "code",
     "collapsed": false,
     "input": [
      "!python setup.py install"
     ],
     "language": "python",
     "metadata": {},
     "outputs": [
      {
       "output_type": "stream",
       "stream": "stdout",
       "text": [
        "running install\r\n"
       ]
      },
      {
       "output_type": "stream",
       "stream": "stdout",
       "text": [
        "running bdist_egg\r\n",
        "running egg_info\r\n",
        "creating ahkab.egg-info\r\n",
        "writing requirements to ahkab.egg-info/requires.txt\r\n",
        "writing ahkab.egg-info/PKG-INFO\r\n",
        "writing top-level names to ahkab.egg-info/top_level.txt\r\n",
        "writing dependency_links to ahkab.egg-info/dependency_links.txt\r\n",
        "writing entry points to ahkab.egg-info/entry_points.txt\r\n",
        "writing manifest file 'ahkab.egg-info/SOURCES.txt'\r\n"
       ]
      },
      {
       "output_type": "stream",
       "stream": "stdout",
       "text": [
        "reading manifest file 'ahkab.egg-info/SOURCES.txt'\r\n",
        "writing manifest file 'ahkab.egg-info/SOURCES.txt'\r\n",
        "installing library code to build/bdist.linux-x86_64/egg\r\n",
        "running install_lib\r\n",
        "running build_py\r\n",
        "creating build\r\n",
        "creating build/lib.linux-x86_64-2.7\r\n",
        "creating build/lib.linux-x86_64-2.7/ahkab\r\n",
        "copying ahkab/pz.py -> build/lib.linux-x86_64-2.7/ahkab\r\n",
        "copying ahkab/bfpss.py -> build/lib.linux-x86_64-2.7/ahkab\r\n",
        "copying ahkab/gear.py -> build/lib.linux-x86_64-2.7/ahkab\r\n",
        "copying ahkab/ac.py -> build/lib.linux-x86_64-2.7/ahkab\r\n",
        "copying ahkab/devices.py -> build/lib.linux-x86_64-2.7/ahkab\r\n",
        "copying ahkab/plotting.py -> build/lib.linux-x86_64-2.7/ahkab\r\n",
        "copying ahkab/mosq.py -> build/lib.linux-x86_64-2.7/ahkab\r\n",
        "copying ahkab/results.py -> build/lib.linux-x86_64-2.7/ahkab\r\n",
        "copying ahkab/__version__.py -> build/lib.linux-x86_64-2.7/ahkab\r\n",
        "copying ahkab/symbolic.py -> build/lib.linux-x86_64-2.7/ahkab\r\n",
        "copying ahkab/options.py -> build/lib.linux-x86_64-2.7/ahkab\r\n",
        "copying ahkab/constants.py -> build/lib.linux-x86_64-2.7/ahkab\r\n",
        "copying ahkab/dc_analysis.py -> build/lib.linux-x86_64-2.7/ahkab\r\n",
        "copying ahkab/__init__.py -> build/lib.linux-x86_64-2.7/ahkab\r\n",
        "copying ahkab/shooting.py -> build/lib.linux-x86_64-2.7/ahkab\r\n",
        "copying ahkab/__main__.py -> build/lib.linux-x86_64-2.7/ahkab\r\n",
        "copying ahkab/ekv.py -> build/lib.linux-x86_64-2.7/ahkab\r\n",
        "copying ahkab/implicit_euler.py -> build/lib.linux-x86_64-2.7/ahkab\r\n",
        "copying ahkab/csvlib.py -> build/lib.linux-x86_64-2.7/ahkab\r\n",
        "copying ahkab/transient.py -> build/lib.linux-x86_64-2.7/ahkab\r\n",
        "copying ahkab/pss.py -> build/lib.linux-x86_64-2.7/ahkab\r\n",
        "copying ahkab/testing.py -> build/lib.linux-x86_64-2.7/ahkab\r\n",
        "copying ahkab/netlist_parser.py -> build/lib.linux-x86_64-2.7/ahkab\r\n",
        "copying ahkab/dc_guess.py -> build/lib.linux-x86_64-2.7/ahkab\r\n",
        "copying ahkab/utilities.py -> build/lib.linux-x86_64-2.7/ahkab\r\n",
        "copying ahkab/trap.py -> build/lib.linux-x86_64-2.7/ahkab\r\n",
        "copying ahkab/circuit.py -> build/lib.linux-x86_64-2.7/ahkab\r\n",
        "copying ahkab/ahkab.py -> build/lib.linux-x86_64-2.7/ahkab\r\n",
        "copying ahkab/switch.py -> build/lib.linux-x86_64-2.7/ahkab\r\n",
        "copying ahkab/diode.py -> build/lib.linux-x86_64-2.7/ahkab\r\n",
        "copying ahkab/ticker.py -> build/lib.linux-x86_64-2.7/ahkab\r\n",
        "copying ahkab/printing.py -> build/lib.linux-x86_64-2.7/ahkab\r\n",
        "creating build/bdist.linux-x86_64\r\n",
        "creating build/bdist.linux-x86_64/egg\r\n",
        "creating build/bdist.linux-x86_64/egg/ahkab\r\n",
        "copying build/lib.linux-x86_64-2.7/ahkab/pz.py -> build/bdist.linux-x86_64/egg/ahkab\r\n",
        "copying build/lib.linux-x86_64-2.7/ahkab/bfpss.py -> build/bdist.linux-x86_64/egg/ahkab\r\n",
        "copying build/lib.linux-x86_64-2.7/ahkab/gear.py -> build/bdist.linux-x86_64/egg/ahkab\r\n",
        "copying build/lib.linux-x86_64-2.7/ahkab/ac.py -> build/bdist.linux-x86_64/egg/ahkab\r\n",
        "copying build/lib.linux-x86_64-2.7/ahkab/devices.py -> build/bdist.linux-x86_64/egg/ahkab\r\n",
        "copying build/lib.linux-x86_64-2.7/ahkab/plotting.py -> build/bdist.linux-x86_64/egg/ahkab\r\n",
        "copying build/lib.linux-x86_64-2.7/ahkab/mosq.py -> build/bdist.linux-x86_64/egg/ahkab\r\n",
        "copying build/lib.linux-x86_64-2.7/ahkab/results.py -> build/bdist.linux-x86_64/egg/ahkab\r\n",
        "copying build/lib.linux-x86_64-2.7/ahkab/__version__.py -> build/bdist.linux-x86_64/egg/ahkab\r\n",
        "copying build/lib.linux-x86_64-2.7/ahkab/symbolic.py -> build/bdist.linux-x86_64/egg/ahkab\r\n",
        "copying build/lib.linux-x86_64-2.7/ahkab/options.py -> build/bdist.linux-x86_64/egg/ahkab\r\n",
        "copying build/lib.linux-x86_64-2.7/ahkab/constants.py -> build/bdist.linux-x86_64/egg/ahkab\r\n",
        "copying build/lib.linux-x86_64-2.7/ahkab/dc_analysis.py -> build/bdist.linux-x86_64/egg/ahkab\r\n"
       ]
      },
      {
       "output_type": "stream",
       "stream": "stdout",
       "text": [
        "copying build/lib.linux-x86_64-2.7/ahkab/__init__.py -> build/bdist.linux-x86_64/egg/ahkab\r\n",
        "copying build/lib.linux-x86_64-2.7/ahkab/shooting.py -> build/bdist.linux-x86_64/egg/ahkab\r\n",
        "copying build/lib.linux-x86_64-2.7/ahkab/__main__.py -> build/bdist.linux-x86_64/egg/ahkab\r\n",
        "copying build/lib.linux-x86_64-2.7/ahkab/ekv.py -> build/bdist.linux-x86_64/egg/ahkab\r\n",
        "copying build/lib.linux-x86_64-2.7/ahkab/implicit_euler.py -> build/bdist.linux-x86_64/egg/ahkab\r\n",
        "copying build/lib.linux-x86_64-2.7/ahkab/csvlib.py -> build/bdist.linux-x86_64/egg/ahkab\r\n",
        "copying build/lib.linux-x86_64-2.7/ahkab/transient.py -> build/bdist.linux-x86_64/egg/ahkab\r\n",
        "copying build/lib.linux-x86_64-2.7/ahkab/pss.py -> build/bdist.linux-x86_64/egg/ahkab\r\n",
        "copying build/lib.linux-x86_64-2.7/ahkab/testing.py -> build/bdist.linux-x86_64/egg/ahkab\r\n",
        "copying build/lib.linux-x86_64-2.7/ahkab/netlist_parser.py -> build/bdist.linux-x86_64/egg/ahkab\r\n",
        "copying build/lib.linux-x86_64-2.7/ahkab/dc_guess.py -> build/bdist.linux-x86_64/egg/ahkab\r\n",
        "copying build/lib.linux-x86_64-2.7/ahkab/utilities.py -> build/bdist.linux-x86_64/egg/ahkab\r\n",
        "copying build/lib.linux-x86_64-2.7/ahkab/trap.py -> build/bdist.linux-x86_64/egg/ahkab\r\n",
        "copying build/lib.linux-x86_64-2.7/ahkab/circuit.py -> build/bdist.linux-x86_64/egg/ahkab\r\n",
        "copying build/lib.linux-x86_64-2.7/ahkab/ahkab.py -> build/bdist.linux-x86_64/egg/ahkab\r\n",
        "copying build/lib.linux-x86_64-2.7/ahkab/switch.py -> build/bdist.linux-x86_64/egg/ahkab\r\n",
        "copying build/lib.linux-x86_64-2.7/ahkab/diode.py -> build/bdist.linux-x86_64/egg/ahkab\r\n",
        "copying build/lib.linux-x86_64-2.7/ahkab/ticker.py -> build/bdist.linux-x86_64/egg/ahkab\r\n",
        "copying build/lib.linux-x86_64-2.7/ahkab/printing.py -> build/bdist.linux-x86_64/egg/ahkab\r\n",
        "byte-compiling build/bdist.linux-x86_64/egg/ahkab/pz.py to pz.pyc\r\n",
        "byte-compiling build/bdist.linux-x86_64/egg/ahkab/bfpss.py to bfpss.pyc\r\n",
        "byte-compiling build/bdist.linux-x86_64/egg/ahkab/gear.py to gear.pyc\r\n",
        "byte-compiling build/bdist.linux-x86_64/egg/ahkab/ac.py to ac.pyc\r\n",
        "byte-compiling build/bdist.linux-x86_64/egg/ahkab/devices.py to devices.pyc\r\n",
        "byte-compiling build/bdist.linux-x86_64/egg/ahkab/plotting.py to plotting.pyc\r\n",
        "byte-compiling build/bdist.linux-x86_64/egg/ahkab/mosq.py to mosq.pyc\r\n",
        "byte-compiling build/bdist.linux-x86_64/egg/ahkab/results.py to results.pyc\r\n"
       ]
      },
      {
       "output_type": "stream",
       "stream": "stdout",
       "text": [
        "byte-compiling build/bdist.linux-x86_64/egg/ahkab/__version__.py to __version__.pyc\r\n",
        "byte-compiling build/bdist.linux-x86_64/egg/ahkab/symbolic.py to symbolic.pyc\r\n",
        "byte-compiling build/bdist.linux-x86_64/egg/ahkab/options.py to options.pyc\r\n",
        "byte-compiling build/bdist.linux-x86_64/egg/ahkab/constants.py to constants.pyc\r\n",
        "byte-compiling build/bdist.linux-x86_64/egg/ahkab/dc_analysis.py to dc_analysis.pyc\r\n",
        "byte-compiling build/bdist.linux-x86_64/egg/ahkab/__init__.py to __init__.pyc\r\n",
        "byte-compiling build/bdist.linux-x86_64/egg/ahkab/shooting.py to shooting.pyc\r\n",
        "byte-compiling build/bdist.linux-x86_64/egg/ahkab/__main__.py to __main__.pyc\r\n",
        "byte-compiling build/bdist.linux-x86_64/egg/ahkab/ekv.py to ekv.pyc\r\n",
        "byte-compiling build/bdist.linux-x86_64/egg/ahkab/implicit_euler.py to implicit_euler.pyc\r\n",
        "byte-compiling build/bdist.linux-x86_64/egg/ahkab/csvlib.py to csvlib.pyc\r\n",
        "byte-compiling build/bdist.linux-x86_64/egg/ahkab/transient.py to transient.pyc\r\n",
        "byte-compiling build/bdist.linux-x86_64/egg/ahkab/pss.py to pss.pyc\r\n",
        "byte-compiling build/bdist.linux-x86_64/egg/ahkab/testing.py to testing.pyc\r\n",
        "byte-compiling build/bdist.linux-x86_64/egg/ahkab/netlist_parser.py to netlist_parser.pyc\r\n"
       ]
      },
      {
       "output_type": "stream",
       "stream": "stdout",
       "text": [
        "byte-compiling build/bdist.linux-x86_64/egg/ahkab/dc_guess.py to dc_guess.pyc\r\n",
        "byte-compiling build/bdist.linux-x86_64/egg/ahkab/utilities.py to utilities.pyc\r\n",
        "byte-compiling build/bdist.linux-x86_64/egg/ahkab/trap.py to trap.pyc\r\n",
        "byte-compiling build/bdist.linux-x86_64/egg/ahkab/circuit.py to circuit.pyc\r\n",
        "byte-compiling build/bdist.linux-x86_64/egg/ahkab/ahkab.py to ahkab.pyc\r\n",
        "byte-compiling build/bdist.linux-x86_64/egg/ahkab/switch.py to switch.pyc\r\n",
        "byte-compiling build/bdist.linux-x86_64/egg/ahkab/diode.py to diode.pyc\r\n",
        "byte-compiling build/bdist.linux-x86_64/egg/ahkab/ticker.py to ticker.pyc\r\n",
        "byte-compiling build/bdist.linux-x86_64/egg/ahkab/printing.py to printing.pyc\r\n",
        "creating build/bdist.linux-x86_64/egg/EGG-INFO\r\n",
        "copying ahkab.egg-info/PKG-INFO -> build/bdist.linux-x86_64/egg/EGG-INFO\r\n",
        "copying ahkab.egg-info/SOURCES.txt -> build/bdist.linux-x86_64/egg/EGG-INFO\r\n",
        "copying ahkab.egg-info/dependency_links.txt -> build/bdist.linux-x86_64/egg/EGG-INFO\r\n",
        "copying ahkab.egg-info/entry_points.txt -> build/bdist.linux-x86_64/egg/EGG-INFO\r\n",
        "copying ahkab.egg-info/not-zip-safe -> build/bdist.linux-x86_64/egg/EGG-INFO\r\n",
        "copying ahkab.egg-info/requires.txt -> build/bdist.linux-x86_64/egg/EGG-INFO\r\n",
        "copying ahkab.egg-info/top_level.txt -> build/bdist.linux-x86_64/egg/EGG-INFO\r\n",
        "creating dist\r\n",
        "creating 'dist/ahkab-0.10-py2.7.egg' and adding 'build/bdist.linux-x86_64/egg' to it\r\n"
       ]
      },
      {
       "output_type": "stream",
       "stream": "stdout",
       "text": [
        "removing 'build/bdist.linux-x86_64/egg' (and everything under it)\r\n"
       ]
      },
      {
       "output_type": "stream",
       "stream": "stdout",
       "text": [
        "Processing ahkab-0.10-py2.7.egg\r\n",
        "creating /usr/local/lib/python2.7/dist-packages/ahkab-0.10-py2.7.egg\r\n",
        "Extracting ahkab-0.10-py2.7.egg to /usr/local/lib/python2.7/dist-packages\r\n"
       ]
      },
      {
       "output_type": "stream",
       "stream": "stdout",
       "text": [
        "Adding ahkab 0.10 to easy-install.pth file\r\n",
        "Installing ahkab script to /usr/local/bin\r\n",
        "\r\n",
        "Installed /usr/local/lib/python2.7/dist-packages/ahkab-0.10-py2.7.egg\r\n",
        "Processing dependencies for ahkab==0.10\r\n"
       ]
      },
      {
       "output_type": "stream",
       "stream": "stdout",
       "text": [
        "Searching for matplotlib==1.3.1\r\n",
        "Best match: matplotlib 1.3.1\r\n",
        "Adding matplotlib 1.3.1 to easy-install.pth file\r\n",
        "\r\n",
        "Using /usr/local/lib/python2.7/dist-packages\r\n",
        "Searching for sympy==0.7.5\r\n",
        "Best match: sympy 0.7.5\r\n",
        "Adding sympy 0.7.5 to easy-install.pth file\r\n",
        "\r\n",
        "Using /usr/local/lib/python2.7/dist-packages\r\n",
        "Searching for numpy==1.8.1\r\n",
        "Best match: numpy 1.8.1\r\n",
        "Adding numpy 1.8.1 to easy-install.pth file\r\n",
        "\r\n",
        "Using /usr/local/lib/python2.7/dist-packages\r\n",
        "Searching for nose==1.3.3\r\n",
        "Best match: nose 1.3.3\r\n",
        "Adding nose 1.3.3 to easy-install.pth file\r\n",
        "Installing nosetests script to /usr/local/bin\r\n"
       ]
      },
      {
       "output_type": "stream",
       "stream": "stdout",
       "text": [
        "Installing nosetests-2.7 script to /usr/local/bin\r\n",
        "\r\n",
        "Using /usr/local/lib/python2.7/dist-packages\r\n",
        "Searching for pyparsing==2.0.2\r\n",
        "Best match: pyparsing 2.0.2\r\n",
        "Adding pyparsing 2.0.2 to easy-install.pth file\r\n",
        "\r\n",
        "Using /usr/local/lib/python2.7/dist-packages\r\n",
        "Searching for tornado==3.2\r\n",
        "Best match: tornado 3.2\r\n",
        "Adding tornado 3.2 to easy-install.pth file\r\n",
        "\r\n",
        "Using /usr/local/lib/python2.7/dist-packages\r\n",
        "Searching for python-dateutil==2.2\r\n",
        "Best match: python-dateutil 2.2\r\n",
        "Adding python-dateutil 2.2 to easy-install.pth file\r\n",
        "\r\n",
        "Using /usr/local/lib/python2.7/dist-packages\r\n",
        "Searching for backports.ssl-match-hostname==3.4.0.2\r\n",
        "Best match: backports.ssl-match-hostname 3.4.0.2\r\n",
        "Adding backports.ssl-match-hostname 3.4.0.2 to easy-install.pth file\r\n",
        "\r\n",
        "Using /usr/local/lib/python2.7/dist-packages\r\n",
        "Searching for six==1.5.2\r\n",
        "Best match: six 1.5.2\r\n",
        "Adding six 1.5.2 to easy-install.pth file\r\n",
        "\r\n",
        "Using /usr/local/lib/python2.7/dist-packages\r\n",
        "Finished processing dependencies for ahkab==0.10\r\n"
       ]
      }
     ],
     "prompt_number": 23
    },
    {
     "cell_type": "code",
     "collapsed": false,
     "input": [
      "from ahkab import new_ac, run\n",
      "from ahkab.circuit import Circuit\n",
      "from ahkab.plotting import plot_results # calls matplotlib for you\n",
      "import numpy as np\n",
      "\n",
      "# Define the circuit\n",
      "cir = Circuit('Butterworth 1kHz band-pass filter')\n",
      "cir.add_vsource('V1', 'n1', cir.gnd, dc_value=0., ac_value=1.)\n",
      "cir.add_resistor('R1', 'n1', 'n2', 50.)\n",
      "cir.add_inductor('L1', 'n2', 'n3', 0.245894)\n",
      "cir.add_capacitor('C1', 'n3', 'n4', 1.03013e-07)\n",
      "cir.add_inductor('L2', 'n4', cir.gnd, 9.83652e-05)\n",
      "cir.add_capacitor('C2', 'n4', cir.gnd, 0.000257513)\n",
      "cir.add_inductor('L3', 'n4', 'n5', 0.795775)\n",
      "cir.add_capacitor('C3', 'n5', 'n6', 3.1831e-08)\n",
      "cir.add_inductor('L4', 'n6', cir.gnd, 9.83652e-05)\n",
      "cir.add_capacitor('C4', 'n6', cir.gnd, 0.000257513)\n",
      "cir.add_capacitor('C5', 'n7', 'n8', 1.03013e-07)\n",
      "cir.add_inductor('L5', 'n6', 'n7', 0.245894)\n",
      "cir.add_resistor('R2', 'n8', cir.gnd, 50.)\n",
      "\n",
      "# Define the analysis\n",
      "ac1 = new_ac(2.*np.pi*.97e3, 2.*np.pi*1.03e3, 1e2, x0=None)\n",
      "\n",
      "# run it\n",
      "res = run(cir, ac1)\n",
      "\n",
      "# plot the results\n",
      "plot_results('5th order 1kHz Butterworth filter', [('|Vn8|',\"\")], res['ac'],\n",
      "             outfilename='bpf_transfer_fn.png')"
     ],
     "language": "python",
     "metadata": {},
     "outputs": [
      {
       "metadata": {},
       "output_type": "display_data",
       "png": "[encoded data removed]",
       "text": [
        "<matplotlib.figure.Figure at 0x40fb290>"
       ]
      }
     ],
     "prompt_number": 24
    },
    {
     "cell_type": "code",
     "collapsed": false,
     "input": [],
     "language": "python",
     "metadata": {},
     "outputs": []
    }
   ],
   "metadata": {}
  }
 ]
}