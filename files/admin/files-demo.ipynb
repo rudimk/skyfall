{
 "metadata": {
  "name": "",
  "signature": "sha256:44b3cd35d49018abd9ce6339b58aa56a9ca50d3571d982a3b60c5f8feaffed03"
 },
 "nbformat": 3,
 "nbformat_minor": 0,
 "worksheets": [
  {
   "cells": [
    {
     "cell_type": "code",
     "collapsed": false,
     "input": [
      "!pip install nbupload"
     ],
     "language": "python",
     "metadata": {},
     "outputs": [
      {
       "output_type": "stream",
       "stream": "stdout",
       "text": [
        "Downloading/unpacking nbupload\r\n"
       ]
      },
      {
       "output_type": "stream",
       "stream": "stdout",
       "text": [
        "  Downloading nbupload-0.0.3.tar.gz\r\n"
       ]
      },
      {
       "output_type": "stream",
       "stream": "stdout",
       "text": [
        "  Running setup.py (path:/tmp/pip_build_root/nbupload/setup.py) egg_info for package nbupload\r\n"
       ]
      },
      {
       "output_type": "stream",
       "stream": "stdout",
       "text": [
        "    \r\n"
       ]
      },
      {
       "output_type": "stream",
       "stream": "stdout",
       "text": [
        "Installing collected packages: nbupload\r\n",
        "  Running setup.py install for nbupload\r\n"
       ]
      },
      {
       "output_type": "stream",
       "stream": "stdout",
       "text": [
        "    \r\n"
       ]
      },
      {
       "output_type": "stream",
       "stream": "stdout",
       "text": [
        "Successfully installed nbupload\r\n",
        "Cleaning up...\r\n"
       ]
      }
     ],
     "prompt_number": 1
    },
    {
     "cell_type": "code",
     "collapsed": false,
     "input": [
      "%load_ext nbupload"
     ],
     "language": "python",
     "metadata": {},
     "outputs": [
      {
       "javascript": [
        "require([\"widgets/js/widget\"], function(WidgetManager){\n",
        "\n",
        "    // byte size to read & send at once (~ 100kB)\n",
        "    // multiple of 6 because we encode the bytes in base64\n",
        "    var CHUNK_SIZE = 6 * 16 * 1024;\n",
        "\n",
        "    /**\n",
        "     * jQuery Deferred wrapper of FileReader\n",
        "     *\n",
        "     * @param {Blob} blob of a file http://www.w3.org/TR/FileAPI/#dfn-Blob\n",
        "     * @return Promise that resolves with the base64 encoded file content\n",
        "     */\n",
        "    var readFile = function(file) {\n",
        "        var deferred = $.Deferred();\n",
        "        var reader = new FileReader();\n",
        "        reader.onerror = function(e) {\n",
        "            deferred.reject('an error occurred while reading the file');\n",
        "        },\n",
        "        reader.onload = function(e) {\n",
        "            var m, dataurl = e.target.result;\n",
        "            if (!(m = /^data:.*?(;base64),/.exec(dataurl))) {\n",
        "                deferred.reject('file could not be read');\n",
        "            }\n",
        "            if (m[1] !== ';base64') {\n",
        "                deferred.reject('only base64 encoded data-uri is supported');\n",
        "            }\n",
        "            deferred.resolve(dataurl.slice(m[0].length));\n",
        "        };\n",
        "        reader.readAsDataURL(file);\n",
        "        return deferred.promise();\n",
        "    };\n",
        "\n",
        "    /**\n",
        "     * read file progressively with jQuery Deferred's \"progress\" interface\n",
        "     *\n",
        "     * @param {Blob} blob of a file http://www.w3.org/TR/FileAPI/#dfn-Blob\n",
        "     * @return Promise\n",
        "     */\n",
        "    var progressiveReadFile = function(file) {\n",
        "        var d_progress = $.Deferred(); // deferred to return\n",
        "        var d_chain = $.Deferred(); // last of the internal deferred chain\n",
        "        var d_kick = d_chain; // first of the internal deferred chain\n",
        "\n",
        "        for (var from = 0, total = file.size; from < total; from += CHUNK_SIZE) {\n",
        "            (function(from) {\n",
        "                d_chain = d_chain.then(function() {\n",
        "                    var to = Math.min(from + CHUNK_SIZE, total);\n",
        "                    var slice = file.slice(from, to);\n",
        "                    return readFile(slice).then(\n",
        "                        function (data) {\n",
        "                            d_progress.notify({\n",
        "                                'total_bytes': total,\n",
        "                                'range_start': from,\n",
        "                                'range_end': to,\n",
        "                                'chunk': data,\n",
        "                            });\n",
        "                        },\n",
        "                        function (err) {\n",
        "                            d_progress.reject(err);\n",
        "                        }\n",
        "                    );\n",
        "                });\n",
        "            } (from));\n",
        "        }\n",
        "        d_chain.then(function() {\n",
        "            d_progress.resolve();\n",
        "        });\n",
        "        d_kick.resolve();\n",
        "        return d_progress.promise();\n",
        "    };\n",
        "\n",
        "    /**\n",
        "     * IPython notebook widget for uploading a local file to notebook server\n",
        "     *\n",
        "     * @class FileUploaderView\n",
        "     */\n",
        "    var FileUploaderView = IPython.DOMWidgetView.extend({\n",
        "        render: function(){\n",
        "            this.setElement($('<input type=\"file\"/>'));\n",
        "        },\n",
        "\n",
        "        events: {\n",
        "            'change': 'handle_file_change',\n",
        "        },\n",
        "\n",
        "        handle_file_change: function(evt) {\n",
        "            var file = evt.target.files[0];\n",
        "\n",
        "            if (!file) {\n",
        "                this._send_error('file not selected');\n",
        "                return;\n",
        "            }\n",
        "\n",
        "            this.model.set('filename', file.name);\n",
        "            this.touch();\n",
        "\n",
        "            this._handle_file(file);\n",
        "        },\n",
        "\n",
        "        _handle_file: function(file) {\n",
        "            var that = this;\n",
        "            progressiveReadFile(file).then(\n",
        "                function done() {\n",
        "                    that.send({'event': 'eof'});\n",
        "                },\n",
        "                function fail(err) {\n",
        "                    that._send_error(err);\n",
        "                },\n",
        "                function progress(data) {\n",
        "                    var percentage = Math.floor(data['range_end'] / data['total_bytes'] * 100);\n",
        "                    that._send_body(data['chunk'], percentage);\n",
        "                }\n",
        "            );\n",
        "        },\n",
        "\n",
        "        _send_body: function(payload, percentage) {\n",
        "            this.send({\n",
        "                'event': 'body',\n",
        "                'data': {\n",
        "                    'payload': payload,\n",
        "                    'percentage': percentage,\n",
        "                }\n",
        "            });\n",
        "        },\n",
        "\n",
        "        _send_error: function(message) {\n",
        "            this.send({\n",
        "                'event': 'error',\n",
        "                'data': {\n",
        "                    'message': message\n",
        "                }\n",
        "            });\n",
        "        },\n",
        "    });\n",
        "\n",
        "    WidgetManager.register_widget_view('FileUploaderView', FileUploaderView);\n",
        "});\n",
        "\n"
       ],
       "metadata": {},
       "output_type": "display_data",
       "text": [
        "<IPython.core.display.Javascript at 0x359d9d0>"
       ]
      }
     ],
     "prompt_number": 2
    },
    {
     "cell_type": "code",
     "collapsed": false,
     "input": [
      "FileUploaderWidget()"
     ],
     "language": "python",
     "metadata": {},
     "outputs": [
      {
       "output_type": "stream",
       "stream": "stdout",
       "text": [
        "Progress [**************************************************]\n",
        "Saved: woo-export_products-2014_07_18.csv\n"
       ]
      }
     ],
     "prompt_number": 3
    },
    {
     "cell_type": "code",
     "collapsed": false,
     "input": [
      "!ll"
     ],
     "language": "python",
     "metadata": {},
     "outputs": [
      {
       "output_type": "stream",
       "stream": "stdout",
       "text": [
        "/bin/sh: 1: ll: not found\r\n"
       ]
      }
     ],
     "prompt_number": 4
    },
    {
     "cell_type": "code",
     "collapsed": false,
     "input": [
      "!ls -l"
     ],
     "language": "python",
     "metadata": {},
     "outputs": [
      {
       "output_type": "stream",
       "stream": "stdout",
       "text": [
        "total 684\r\n",
        "-rw-r--r-- 1 root root 176896 Jul  8 08:32 03-IntroScipy.ipynb\r\n",
        "-rw-r--r-- 1 root root 148447 Jul  8 08:32 04-IntroSymPy.ipynb\r\n",
        "-rw-r--r-- 1 root root  73006 Jul 23 11:41 Octave & R Samples.ipynb\r\n",
        "-rw-r--r-- 1 root root  22616 Jul  3 13:52 Untitled0.ipynb\r\n",
        "-rw-r--r-- 1 root root    181 Jul 24 09:15 file-upload-demo.ipynb\r\n",
        "-rw-r--r-- 1 root root  10743 Jul  5 16:00 file-widget-demo.ipynb\r\n",
        "-rw-r--r-- 1 root root 200175 Jul 24 08:20 theano-demo.ipynb\r\n",
        "-rw-r--r-- 1 root root  32807 Jul 24 09:16 woo-export_products-2014_07_18.csv\r\n"
       ]
      }
     ],
     "prompt_number": 5
    },
    {
     "cell_type": "code",
     "collapsed": false,
     "input": [
      "from IPython.display import FileLinks\n",
      "FileLinks('.')"
     ],
     "language": "python",
     "metadata": {},
     "outputs": [
      {
       "html": [
        "./<br>\n",
        "&nbsp;&nbsp;<a href='./file-upload-demo.ipynb' target='_blank'>file-upload-demo.ipynb</a><br>\n",
        "&nbsp;&nbsp;<a href='./03-IntroScipy.ipynb' target='_blank'>03-IntroScipy.ipynb</a><br>\n",
        "&nbsp;&nbsp;<a href='./csv-experiments.ipynb' target='_blank'>csv-experiments.ipynb</a><br>\n",
        "&nbsp;&nbsp;<a href='./Octave & R Samples.ipynb' target='_blank'>Octave & R Samples.ipynb</a><br>\n",
        "&nbsp;&nbsp;<a href='./04-IntroSymPy.ipynb' target='_blank'>04-IntroSymPy.ipynb</a><br>\n",
        "&nbsp;&nbsp;<a href='./file-widget-demo.ipynb' target='_blank'>file-widget-demo.ipynb</a><br>\n",
        "&nbsp;&nbsp;<a href='./.lorenz-differential-equations.ipynb.swp' target='_blank'>.lorenz-differential-equations.ipynb.swp</a><br>\n",
        "&nbsp;&nbsp;<a href='./theano-demo.ipynb' target='_blank'>theano-demo.ipynb</a><br>\n",
        "&nbsp;&nbsp;<a href='./woo-export_products-2014_07_18.csv' target='_blank'>woo-export_products-2014_07_18.csv</a><br>\n",
        "&nbsp;&nbsp;<a href='./Untitled0.ipynb' target='_blank'>Untitled0.ipynb</a><br>\n",
        "./.ipynb_checkpoints/<br>\n",
        "&nbsp;&nbsp;<a href='./.ipynb_checkpoints/file-widget-demo-checkpoint.ipynb' target='_blank'>file-widget-demo-checkpoint.ipynb</a><br>\n",
        "&nbsp;&nbsp;<a href='./.ipynb_checkpoints/Octave & R Samples-checkpoint.ipynb' target='_blank'>Octave & R Samples-checkpoint.ipynb</a><br>\n",
        "&nbsp;&nbsp;<a href='./.ipynb_checkpoints/theano-demo-checkpoint.ipynb' target='_blank'>theano-demo-checkpoint.ipynb</a><br>\n",
        "&nbsp;&nbsp;<a href='./.ipynb_checkpoints/file-upload-demo-checkpoint.ipynb' target='_blank'>file-upload-demo-checkpoint.ipynb</a><br>\n",
        "&nbsp;&nbsp;<a href='./.ipynb_checkpoints/Untitled0-checkpoint.ipynb' target='_blank'>Untitled0-checkpoint.ipynb</a><br>\n",
        "&nbsp;&nbsp;<a href='./.ipynb_checkpoints/csv-experiments-checkpoint.ipynb' target='_blank'>csv-experiments-checkpoint.ipynb</a><br>"
       ],
       "metadata": {},
       "output_type": "pyout",
       "prompt_number": 7,
       "text": [
        "./\n",
        "  file-upload-demo.ipynb\n",
        "  03-IntroScipy.ipynb\n",
        "  csv-experiments.ipynb\n",
        "  Octave & R Samples.ipynb\n",
        "  04-IntroSymPy.ipynb\n",
        "  file-widget-demo.ipynb\n",
        "  .lorenz-differential-equations.ipynb.swp\n",
        "  theano-demo.ipynb\n",
        "  woo-export_products-2014_07_18.csv\n",
        "  Untitled0.ipynb\n",
        "./.ipynb_checkpoints/\n",
        "  file-widget-demo-checkpoint.ipynb\n",
        "  Octave & R Samples-checkpoint.ipynb\n",
        "  theano-demo-checkpoint.ipynb\n",
        "  file-upload-demo-checkpoint.ipynb\n",
        "  Untitled0-checkpoint.ipynb\n",
        "  csv-experiments-checkpoint.ipynb"
       ]
      }
     ],
     "prompt_number": 7
    },
    {
     "cell_type": "code",
     "collapsed": false,
     "input": [],
     "language": "python",
     "metadata": {},
     "outputs": []
    }
   ],
   "metadata": {}
  }
 ]
}