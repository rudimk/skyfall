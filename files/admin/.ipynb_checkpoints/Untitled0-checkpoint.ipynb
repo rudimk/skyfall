{
 "metadata": {
  "name": "",
  "signature": "sha256:358294d0e7fe8a54eb7b9e8a98a80070d296a045ac7aabee8e145862421466d9"
 },
 "nbformat": 3,
 "nbformat_minor": 0,
 "worksheets": [
  {
   "cells": [
    {
     "cell_type": "code",
     "collapsed": false,
     "input": [
      "!ps -A"
     ],
     "language": "python",
     "metadata": {},
     "outputs": [
      {
       "output_type": "stream",
       "stream": "stdout",
       "text": [
        "  PID TTY          TIME CMD\r\n",
        "    1 ?        00:00:02 init\r\n",
        "    2 ?        00:00:00 kthreadd\r\n",
        "    3 ?        00:00:03 ksoftirqd/0\r\n",
        "    4 ?        00:00:03 kworker/0:0\r\n",
        "    5 ?        00:00:00 kworker/u:0\r\n",
        "    6 ?        00:00:02 migration/0\r\n",
        "    7 ?        00:00:03 watchdog/0\r\n",
        "    8 ?        00:00:02 migration/1\r\n",
        "    9 ?        00:00:00 kworker/1:0\r\n",
        "   10 ?        00:00:04 ksoftirqd/1\r\n",
        "   11 ?        00:00:03 watchdog/1\r\n",
        "   12 ?        00:00:00 cpuset\r\n",
        "   13 ?        00:00:00 khelper\r\n",
        "   14 ?        00:00:00 kdevtmpfs\r\n",
        "   15 ?        00:00:00 netns\r\n",
        "   16 ?        00:00:00 kworker/u:1\r\n",
        "   17 ?        00:00:00 xenwatch\r\n",
        "   18 ?        00:00:43 xenbus\r\n",
        "   19 ?        00:00:01 sync_supers\r\n",
        "   20 ?        00:00:00 bdi-default\r\n",
        "   21 ?        00:00:00 kintegrityd\r\n",
        "   22 ?        00:00:00 kblockd\r\n",
        "   23 ?        00:00:02 kworker/1:1\r\n",
        "   24 ?        00:00:00 ata_sff\r\n",
        "   25 ?        00:00:00 khubd\r\n",
        "   26 ?        00:00:00 md\r\n",
        "   27 ?        00:00:05 kworker/0:1\r\n",
        "   28 ?        00:00:00 khungtaskd\r\n",
        "   29 ?        00:00:00 kswapd0\r\n",
        "   30 ?        00:00:00 ksmd\r\n",
        "   31 ?        00:00:00 fsnotify_mark\r\n",
        "   32 ?        00:00:00 ecryptfs-kthrea\r\n",
        "   33 ?        00:00:00 crypto\r\n",
        "   41 ?        00:00:00 kthrotld\r\n",
        "   42 ?        00:00:00 khvcd\r\n",
        "   62 ?        00:00:00 devfreq_wq\r\n",
        "  157 ?        00:00:09 kjournald\r\n",
        "  262 ?        00:00:00 upstart-udev-br\r\n",
        "  270 ?        00:00:00 udevd\r\n",
        "  317 ?        00:00:00 udevd\r\n",
        "  318 ?        00:00:00 udevd\r\n",
        "  392 ?        00:00:16 xe-daemon\r\n",
        "  483 ?        00:00:00 upstart-socket-\r\n",
        "  516 ?        00:01:55 nova-agent\r\n",
        "  519 ?        00:00:04 flush-202:0\r\n",
        "  702 ?        00:00:00 dbus-daemon\r\n",
        "  705 ?        00:01:04 rsyslogd\r\n",
        "  762 tty4     00:00:00 getty\r\n",
        "  765 tty5     00:00:00 getty\r\n",
        "  772 tty2     00:00:00 getty\r\n",
        "  773 tty3     00:00:00 getty\r\n",
        "  776 tty6     00:00:00 getty\r\n",
        "  784 ?        00:00:00 cron\r\n",
        "  785 ?        00:00:00 atd\r\n",
        "  810 ?        00:00:54 irqbalance\r\n",
        "  867 ?        00:00:05 sshd\r\n",
        "  872 hvc0     00:00:00 getty\r\n",
        "  875 tty1     00:00:00 getty\r\n",
        "  882 ?        00:00:01 sshd\r\n",
        "  898 pts/1    00:00:00 bash\r\n",
        " 2528 ?        00:00:02 redis-server\r\n",
        "10267 ?        00:00:00 sh\r\n",
        "10268 ?        00:00:00 nodejs\r\n",
        "10275 ?        00:00:00 nodejs\r\n",
        "10277 ?        00:00:00 nodejs\r\n",
        "10278 ?        00:00:00 nodejs\r\n",
        "10280 ?        00:00:00 nodejs\r\n",
        "10282 ?        00:00:00 nodejs\r\n",
        "10283 ?        00:00:00 nodejs\r\n",
        "10285 ?        00:00:00 nodejs\r\n",
        "10287 ?        00:00:00 nodejs\r\n",
        "10289 ?        00:00:00 nodejs\r\n",
        "10291 ?        00:00:01 nodejs\r\n",
        "12269 ?        00:00:00 sh\r\n",
        "12270 ?        00:00:00 gunicorn\r\n",
        "12275 ?        00:00:02 gunicorn\r\n",
        "12278 ?        00:00:03 gunicorn\r\n",
        "12337 ?        00:03:25 mysqld\r\n",
        "12347 ?        00:00:00 ipython <defunct>\r\n",
        "13889 pts/0    00:00:00 ipython\r\n",
        "13964 ?        00:00:00 sleep\r\n",
        "13965 pts/0    00:00:00 python\r\n",
        "13981 pts/2    00:00:00 sh\r\n",
        "13982 pts/2    00:00:00 ps\r\n"
       ]
      }
     ],
     "prompt_number": 1
    },
    {
     "cell_type": "code",
     "collapsed": false,
     "input": [
      "!ls -l"
     ],
     "language": "python",
     "metadata": {},
     "outputs": [
      {
       "output_type": "stream",
       "stream": "stdout",
       "text": [
        "total 4\r\n",
        "-rw-r--r-- 1 root root 181 Jul  3 10:52 Untitled0.ipynb\r\n"
       ]
      }
     ],
     "prompt_number": 3
    },
    {
     "cell_type": "code",
     "collapsed": false,
     "input": [
      "!cwd"
     ],
     "language": "python",
     "metadata": {},
     "outputs": [
      {
       "output_type": "stream",
       "stream": "stdout",
       "text": [
        "/bin/sh: 1: cwd: not found\r\n"
       ]
      }
     ],
     "prompt_number": 4
    },
    {
     "cell_type": "code",
     "collapsed": false,
     "input": [
      "!pwd"
     ],
     "language": "python",
     "metadata": {},
     "outputs": [
      {
       "output_type": "stream",
       "stream": "stdout",
       "text": [
        "/root/skyfall/files/admin\r\n"
       ]
      }
     ],
     "prompt_number": 5
    },
    {
     "cell_type": "code",
     "collapsed": false,
     "input": [
      "%load_ext octavemagic"
     ],
     "language": "python",
     "metadata": {},
     "outputs": [],
     "prompt_number": 2
    },
    {
     "cell_type": "code",
     "collapsed": false,
     "input": [
      "%%octave\n",
      "2+2"
     ],
     "language": "python",
     "metadata": {},
     "outputs": [
      {
       "metadata": {},
       "output_type": "display_data",
       "text": [
        "ans =  4"
       ]
      }
     ],
     "prompt_number": 3
    },
    {
     "cell_type": "code",
     "collapsed": false,
     "input": [
      "%load_ext rmagic"
     ],
     "language": "python",
     "metadata": {},
     "outputs": [
      {
       "output_type": "stream",
       "stream": "stderr",
       "text": [
        "/usr/local/lib/python2.7/dist-packages/pandas/io/excel.py:626: UserWarning: Installed openpyxl is not supported at this time. Use >=1.6.1 and <2.0.0.\n",
        "  .format(openpyxl_compat.start_ver, openpyxl_compat.stop_ver))\n"
       ]
      }
     ],
     "prompt_number": 4
    },
    {
     "cell_type": "code",
     "collapsed": false,
     "input": [
      "import numpy as np\n",
      "import pylab\n",
      "X = np.array([0,1,2,3,4])\n",
      "Y = np.array([3,5,4,6,7])\n",
      "pylab.scatter(X, Y)"
     ],
     "language": "python",
     "metadata": {},
     "outputs": [
      {
       "metadata": {},
       "output_type": "pyout",
       "prompt_number": 9,
       "text": [
        "<matplotlib.collections.PathCollection at 0x4f1a290>"
       ]
      },
      {
       "metadata": {},
       "output_type": "display_data",
       "png": "[encoded data removed]",
       "text": [
        "<matplotlib.figure.Figure at 0x4efb590>"
       ]
      }
     ],
     "prompt_number": 9
    },
    {
     "cell_type": "code",
     "collapsed": false,
     "input": [
      "%pylab inline"
     ],
     "language": "python",
     "metadata": {},
     "outputs": [
      {
       "output_type": "stream",
       "stream": "stdout",
       "text": [
        "Populating the interactive namespace from numpy and matplotlib\n"
       ]
      },
      {
       "output_type": "stream",
       "stream": "stderr",
       "text": [
        "WARNING: pylab import has clobbered these variables: ['pylab']\n",
        "`%matplotlib` prevents importing * from pylab and numpy\n"
       ]
      }
     ],
     "prompt_number": 8
    },
    {
     "cell_type": "code",
     "collapsed": false,
     "input": [
      "%Rpush X Y\n",
      "%R lm(Y~X)$coef"
     ],
     "language": "python",
     "metadata": {},
     "outputs": [
      {
       "metadata": {},
       "output_type": "pyout",
       "prompt_number": 12,
       "text": [
        "<FloatVector - Python:0x4ae3680 / R:0x284b550>\n",
        "[3.200000, 0.900000]"
       ]
      }
     ],
     "prompt_number": 12
    },
    {
     "cell_type": "code",
     "collapsed": false,
     "input": [
      "%load_ext rpy2.ipython"
     ],
     "language": "python",
     "metadata": {},
     "outputs": [],
     "prompt_number": 11
    },
    {
     "cell_type": "code",
     "collapsed": false,
     "input": [
      "%%sage"
     ],
     "language": "python",
     "metadata": {},
     "outputs": [
      {
       "output_type": "stream",
       "stream": "stderr",
       "text": [
        "ERROR: Cell magic `%%sage` not found.\n"
       ]
      }
     ],
     "prompt_number": 13
    },
    {
     "cell_type": "code",
     "collapsed": false,
     "input": [
      "%%bash\n",
      "sage"
     ],
     "language": "python",
     "metadata": {},
     "outputs": [
      {
       "output_type": "stream",
       "stream": "stderr",
       "text": [
        "Error: environment variable $HOME is not set.\n",
        "Error setting environment variables by sourcing '/usr/lib/sagemath/src/bin/sage-env';\n",
        "possibly contact sage-devel (see http://groups.google.com/group/sage-devel).\n"
       ]
      }
     ],
     "prompt_number": 16
    },
    {
     "cell_type": "code",
     "collapsed": false,
     "input": [
      "import sympy"
     ],
     "language": "python",
     "metadata": {},
     "outputs": [],
     "prompt_number": 17
    },
    {
     "cell_type": "code",
     "collapsed": false,
     "input": [
      "files = !ls -l"
     ],
     "language": "python",
     "metadata": {},
     "outputs": [],
     "prompt_number": 18
    },
    {
     "cell_type": "code",
     "collapsed": false,
     "input": [
      "files"
     ],
     "language": "python",
     "metadata": {},
     "outputs": [
      {
       "metadata": {},
       "output_type": "pyout",
       "prompt_number": 19,
       "text": [
        "['total 16', '-rw-r--r-- 1 root root 16050 Jul  3 13:47 Untitled0.ipynb']"
       ]
      }
     ],
     "prompt_number": 19
    },
    {
     "cell_type": "code",
     "collapsed": false,
     "input": [
      "files[1]"
     ],
     "language": "python",
     "metadata": {},
     "outputs": [
      {
       "metadata": {},
       "output_type": "pyout",
       "prompt_number": 21,
       "text": [
        "'-rw-r--r-- 1 root root 16050 Jul  3 13:47 Untitled0.ipynb'"
       ]
      }
     ],
     "prompt_number": 21
    },
    {
     "cell_type": "code",
     "collapsed": false,
     "input": [
      "%install_ext https://cdcvs.fnal.gov/redmine/projects/ipython_ext/repository/revisions/master/raw/ipythonPexpect.py"
     ],
     "language": "python",
     "metadata": {},
     "outputs": [
      {
       "output_type": "stream",
       "stream": "stdout",
       "text": [
        "Installed ipythonPexpect.py. To use it, type:\n",
        "  %load_ext ipythonPexpect\n"
       ]
      }
     ],
     "prompt_number": 22
    },
    {
     "cell_type": "code",
     "collapsed": false,
     "input": [
      "%load_ext ipythonPexpect"
     ],
     "language": "python",
     "metadata": {},
     "outputs": [
      {
       "output_type": "stream",
       "stream": "stdout",
       "text": [
        "%ipythonPexpect? for help\n"
       ]
      }
     ],
     "prompt_number": 24
    },
    {
     "cell_type": "code",
     "collapsed": false,
     "input": [
      "%pexpect_spawn_bash"
     ],
     "language": "python",
     "metadata": {},
     "outputs": [
      {
       "output_type": "stream",
       "stream": "stdout",
       "text": [
        "Opened connection to /usr/bin/env bash\n",
        "PS1='bash> '"
       ]
      },
      {
       "output_type": "stream",
       "stream": "stdout",
       "text": [
        "\r\n"
       ]
      },
      {
       "output_type": "stream",
       "stream": "stdout",
       "text": [
        "root@skyfall-staging:/root/skyfall/files/admin# "
       ]
      },
      {
       "output_type": "stream",
       "stream": "stdout",
       "text": [
        "PS1='bas"
       ]
      },
      {
       "output_type": "stream",
       "stream": "stdout",
       "text": [
        "h> '\r\n"
       ]
      },
      {
       "output_type": "stream",
       "stream": "stdout",
       "text": [
        "bash> "
       ]
      }
     ],
     "prompt_number": 25
    },
    {
     "cell_type": "code",
     "collapsed": false,
     "input": [
      "%%P\n",
      "sage"
     ],
     "language": "python",
     "metadata": {},
     "outputs": [
      {
       "output_type": "stream",
       "stream": "stdout",
       "text": [
        "bash> sage\r\n"
       ]
      },
      {
       "output_type": "stream",
       "stream": "stdout",
       "text": [
        "Error: environment variable $HOME is not set."
       ]
      },
      {
       "output_type": "stream",
       "stream": "stdout",
       "text": [
        "\r\n"
       ]
      },
      {
       "output_type": "stream",
       "stream": "stdout",
       "text": [
        "Error setting environment variables by sourcing '/usr/lib/sagemath/src/bin/sage-env';\r\n",
        "possibly contact sage-devel (see http://groups.google.com/group/sage-devel).\r\n"
       ]
      },
      {
       "output_type": "stream",
       "stream": "stdout",
       "text": [
        "bash> "
       ]
      }
     ],
     "prompt_number": 27
    },
    {
     "cell_type": "code",
     "collapsed": false,
     "input": [
      "%%P\n",
      "ifconfig"
     ],
     "language": "python",
     "metadata": {},
     "outputs": [
      {
       "output_type": "stream",
       "stream": "stdout",
       "text": [
        "bash> ifconfig\r\n"
       ]
      },
      {
       "output_type": "stream",
       "stream": "stdout",
       "text": [
        "eth0      Link encap:Ethernet  HWaddr bc:76:4e:08:d1:52  \r\n",
        "          inet addr:162.13.2.249  Bcast:162.13.2.255  Mask:255.255.255.0\r\n"
       ]
      },
      {
       "output_type": "stream",
       "stream": "stdout",
       "text": [
        "          inet6 addr: 2a00:1a48:7805:112:be76:4eff:fe08:d152/64 Scope:Global\r\n",
        "          inet6 addr: fe80::be76:4eff:fe08:d152/64 Scope:Link\r\n",
        "          UP BROADCAST RUNNING MULTICAST  MTU:1500  Metric:1\r\n",
        "          RX packets:984465 errors:0 dropped:0 overruns:0 frame:0\r\n",
        "          TX packets:241059 errors:0 dropped:0 overruns:0 carrier:0\r\n",
        "          collisions:0 txqueuelen:1000 \r\n",
        "          RX bytes:1241336582 (1.2 GB)  TX bytes:77291738 (77.2 MB)\r\n",
        "          Interrupt:32 \r\n",
        "\r\n",
        "eth1      Link encap:Ethernet  HWaddr bc:76:4e:08:d1:62  \r\n",
        "          inet addr:10.179.3.174  Bcast:10.179.63.255  Mask:255.255.192.0\r\n",
        "          inet6 addr: fe80::be76:4eff:fe08:d162/64 Scope:Link\r\n",
        "          UP BROADCAST RUNNING MULTICAST  MTU:1500  Metric:1\r\n",
        "          RX packets:0 errors:0 dropped:0 overruns:0 frame:0\r\n",
        "          TX packets:6 errors:0 dropped:0 overruns:0 carrier:0\r\n",
        "          collisions:0 txqueuelen:1000 \r\n",
        "          RX bytes:0 (0.0 B)  TX bytes:468 (468.0 B)\r\n",
        "          Interrupt:33 \r\n",
        "\r\n",
        "lo        Link encap:Local Loopback  \r\n",
        "          inet addr:127.0.0.1  Mask:255.0.0.0\r\n",
        "          inet6 addr: ::1/128 Scope:Host\r\n",
        "          UP LOOPBACK RUNNING  MTU:16436  Metric:1\r\n",
        "          RX packets:41236 errors:0 dropped:0 overruns:0 frame:0\r\n",
        "          TX packets:41236 errors:0 dropped:0 overruns:0 carrier:0\r\n",
        "          collisions:0 txqueuelen:0 \r\n",
        "          RX bytes:23062064 (23.0 MB)  TX bytes:23062064 (23.0 MB)\r\n",
        "\r\n"
       ]
      },
      {
       "output_type": "stream",
       "stream": "stdout",
       "text": [
        "bash> "
       ]
      }
     ],
     "prompt_number": 28
    },
    {
     "cell_type": "code",
     "collapsed": false,
     "input": [],
     "language": "python",
     "metadata": {},
     "outputs": []
    }
   ],
   "metadata": {}
  }
 ]
}