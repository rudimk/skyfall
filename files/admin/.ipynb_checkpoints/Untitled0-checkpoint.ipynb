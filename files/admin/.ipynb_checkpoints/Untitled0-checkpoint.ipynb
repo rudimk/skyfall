{
 "metadata": {
  "name": "",
  "signature": "sha256:596290efecb47bf188b71a183103a52f773a88439b9a44fc7adb6e305eb354c6"
 },
 "nbformat": 3,
 "nbformat_minor": 0,
 "worksheets": [
  {
   "cells": [
    {
     "cell_type": "code",
     "collapsed": false,
     "input": [
      "!ps -A"
     ],
     "language": "python",
     "metadata": {},
     "outputs": [
      {
       "output_type": "stream",
       "stream": "stdout",
       "text": [
        "  PID TTY          TIME CMD\r\n",
        "    1 ?        00:00:02 init\r\n",
        "    2 ?        00:00:00 kthreadd\r\n",
        "    3 ?        00:00:03 ksoftirqd/0\r\n",
        "    4 ?        00:00:03 kworker/0:0\r\n",
        "    5 ?        00:00:00 kworker/u:0\r\n",
        "    6 ?        00:00:02 migration/0\r\n",
        "    7 ?        00:00:03 watchdog/0\r\n",
        "    8 ?        00:00:02 migration/1\r\n",
        "    9 ?        00:00:00 kworker/1:0\r\n",
        "   10 ?        00:00:04 ksoftirqd/1\r\n",
        "   11 ?        00:00:03 watchdog/1\r\n",
        "   12 ?        00:00:00 cpuset\r\n",
        "   13 ?        00:00:00 khelper\r\n",
        "   14 ?        00:00:00 kdevtmpfs\r\n",
        "   15 ?        00:00:00 netns\r\n",
        "   16 ?        00:00:00 kworker/u:1\r\n",
        "   17 ?        00:00:00 xenwatch\r\n",
        "   18 ?        00:00:43 xenbus\r\n",
        "   19 ?        00:00:01 sync_supers\r\n",
        "   20 ?        00:00:00 bdi-default\r\n",
        "   21 ?        00:00:00 kintegrityd\r\n",
        "   22 ?        00:00:00 kblockd\r\n",
        "   23 ?        00:00:02 kworker/1:1\r\n",
        "   24 ?        00:00:00 ata_sff\r\n",
        "   25 ?        00:00:00 khubd\r\n",
        "   26 ?        00:00:00 md\r\n",
        "   27 ?        00:00:05 kworker/0:1\r\n",
        "   28 ?        00:00:00 khungtaskd\r\n",
        "   29 ?        00:00:00 kswapd0\r\n",
        "   30 ?        00:00:00 ksmd\r\n",
        "   31 ?        00:00:00 fsnotify_mark\r\n",
        "   32 ?        00:00:00 ecryptfs-kthrea\r\n",
        "   33 ?        00:00:00 crypto\r\n",
        "   41 ?        00:00:00 kthrotld\r\n",
        "   42 ?        00:00:00 khvcd\r\n",
        "   62 ?        00:00:00 devfreq_wq\r\n",
        "  157 ?        00:00:09 kjournald\r\n",
        "  262 ?        00:00:00 upstart-udev-br\r\n",
        "  270 ?        00:00:00 udevd\r\n",
        "  317 ?        00:00:00 udevd\r\n",
        "  318 ?        00:00:00 udevd\r\n",
        "  392 ?        00:00:16 xe-daemon\r\n",
        "  483 ?        00:00:00 upstart-socket-\r\n",
        "  516 ?        00:01:55 nova-agent\r\n",
        "  519 ?        00:00:04 flush-202:0\r\n",
        "  702 ?        00:00:00 dbus-daemon\r\n",
        "  705 ?        00:01:04 rsyslogd\r\n",
        "  762 tty4     00:00:00 getty\r\n",
        "  765 tty5     00:00:00 getty\r\n",
        "  772 tty2     00:00:00 getty\r\n",
        "  773 tty3     00:00:00 getty\r\n",
        "  776 tty6     00:00:00 getty\r\n",
        "  784 ?        00:00:00 cron\r\n",
        "  785 ?        00:00:00 atd\r\n",
        "  810 ?        00:00:54 irqbalance\r\n",
        "  867 ?        00:00:05 sshd\r\n",
        "  872 hvc0     00:00:00 getty\r\n",
        "  875 tty1     00:00:00 getty\r\n",
        "  882 ?        00:00:01 sshd\r\n",
        "  898 pts/1    00:00:00 bash\r\n",
        " 2528 ?        00:00:02 redis-server\r\n",
        "10267 ?        00:00:00 sh\r\n",
        "10268 ?        00:00:00 nodejs\r\n",
        "10275 ?        00:00:00 nodejs\r\n",
        "10277 ?        00:00:00 nodejs\r\n",
        "10278 ?        00:00:00 nodejs\r\n",
        "10280 ?        00:00:00 nodejs\r\n",
        "10282 ?        00:00:00 nodejs\r\n",
        "10283 ?        00:00:00 nodejs\r\n",
        "10285 ?        00:00:00 nodejs\r\n",
        "10287 ?        00:00:00 nodejs\r\n",
        "10289 ?        00:00:00 nodejs\r\n",
        "10291 ?        00:00:01 nodejs\r\n",
        "12269 ?        00:00:00 sh\r\n",
        "12270 ?        00:00:00 gunicorn\r\n",
        "12275 ?        00:00:02 gunicorn\r\n",
        "12278 ?        00:00:03 gunicorn\r\n",
        "12337 ?        00:03:25 mysqld\r\n",
        "12347 ?        00:00:00 ipython <defunct>\r\n",
        "13889 pts/0    00:00:00 ipython\r\n",
        "13964 ?        00:00:00 sleep\r\n",
        "13965 pts/0    00:00:00 python\r\n",
        "13981 pts/2    00:00:00 sh\r\n",
        "13982 pts/2    00:00:00 ps\r\n"
       ]
      }
     ],
     "prompt_number": 1
    },
    {
     "cell_type": "code",
     "collapsed": false,
     "input": [
      "!ls -l"
     ],
     "language": "python",
     "metadata": {},
     "outputs": [
      {
       "output_type": "stream",
       "stream": "stdout",
       "text": [
        "total 4\r\n",
        "-rw-r--r-- 1 root root 181 Jul  3 10:52 Untitled0.ipynb\r\n"
       ]
      }
     ],
     "prompt_number": 3
    },
    {
     "cell_type": "code",
     "collapsed": false,
     "input": [
      "!cwd"
     ],
     "language": "python",
     "metadata": {},
     "outputs": [
      {
       "output_type": "stream",
       "stream": "stdout",
       "text": [
        "/bin/sh: 1: cwd: not found\r\n"
       ]
      }
     ],
     "prompt_number": 4
    },
    {
     "cell_type": "code",
     "collapsed": false,
     "input": [
      "!pwd"
     ],
     "language": "python",
     "metadata": {},
     "outputs": [
      {
       "output_type": "stream",
       "stream": "stdout",
       "text": [
        "/root/skyfall/files/admin\r\n"
       ]
      }
     ],
     "prompt_number": 5
    },
    {
     "cell_type": "code",
     "collapsed": false,
     "input": [],
     "language": "python",
     "metadata": {},
     "outputs": []
    }
   ],
   "metadata": {}
  }
 ]
}