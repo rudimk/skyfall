{
 "metadata": {
  "name": "",
  "signature": "sha256:b5585977980c860f7fffeec4beea86acdc0e966a57657a5826d0cb470df301ff"
 },
 "nbformat": 3,
 "nbformat_minor": 0,
 "worksheets": [
  {
   "cells": [
    {
     "cell_type": "code",
     "collapsed": false,
     "input": [
      "!pip install Theano"
     ],
     "language": "python",
     "metadata": {},
     "outputs": [
      {
       "output_type": "stream",
       "stream": "stdout",
       "text": [
        "Downloading/unpacking Theano\r\n"
       ]
      },
      {
       "output_type": "stream",
       "stream": "stdout",
       "text": [
        "  Downloading Theano-0.6.0.tar.gz (1.8MB): \r",
        "  Downloading Theano-0.6.0.tar.gz (1.8MB):   0%  4.1kB\r",
        "  Downloading Theano-0.6.0.tar.gz (1.8MB):   0%  8.2kB"
       ]
      },
      {
       "output_type": "stream",
       "stream": "stdout",
       "text": [
        "\r",
        "  Downloading Theano-0.6.0.tar.gz (1.8MB):   0%  12kB \r",
        "  Downloading Theano-0.6.0.tar.gz (1.8MB):   0%  16kB\r",
        "  Downloading Theano-0.6.0.tar.gz (1.8MB):   1%  20kB\r",
        "  Downloading Theano-0.6.0.tar.gz (1.8MB):   1%  24kB\r",
        "  Downloading Theano-0.6.0.tar.gz (1.8MB):   1%  28kB\r",
        "  Downloading Theano-0.6.0.tar.gz (1.8MB):   1%  32kB\r",
        "  Downloading Theano-0.6.0.tar.gz (1.8MB):   2%  36kB\r",
        "  Downloading Theano-0.6.0.tar.gz (1.8MB):   2%  40kB\r",
        "  Downloading Theano-0.6.0.tar.gz (1.8MB):   2%  45kB\r",
        "  Downloading Theano-0.6.0.tar.gz (1.8MB):   2%  49kB\r",
        "  Downloading Theano-0.6.0.tar.gz (1.8MB):   3%  53kB\r",
        "  Downloading Theano-0.6.0.tar.gz (1.8MB):   3%  57kB\r",
        "  Downloading Theano-0.6.0.tar.gz (1.8MB):   3%  61kB\r",
        "  Downloading Theano-0.6.0.tar.gz (1.8MB):   3%  65kB\r",
        "  Downloading Theano-0.6.0.tar.gz (1.8MB):   3%  69kB\r",
        "  Downloading Theano-0.6.0.tar.gz (1.8MB):   4%  73kB\r",
        "  Downloading Theano-0.6.0.tar.gz (1.8MB):   4%  77kB\r",
        "  Downloading Theano-0.6.0.tar.gz (1.8MB):   4%  81kB\r",
        "  Downloading Theano-0.6.0.tar.gz (1.8MB):   4%  86kB\r",
        "  Downloading Theano-0.6.0.tar.gz (1.8MB):   5%  90kB\r",
        "  Downloading Theano-0.6.0.tar.gz (1.8MB):   5%  94kB\r",
        "  Downloading Theano-0.6.0.tar.gz (1.8MB):   5%  98kB\r",
        "  Downloading Theano-0.6.0.tar.gz (1.8MB):   5%  102kB\r",
        "  Downloading Theano-0.6.0.tar.gz (1.8MB):   6%  106kB\r",
        "  Downloading Theano-0.6.0.tar.gz (1.8MB):   6%  110kB\r",
        "  Downloading Theano-0.6.0.tar.gz (1.8MB):   6%  114kB\r",
        "  Downloading Theano-0.6.0.tar.gz (1.8MB):   6%  118kB\r",
        "  Downloading Theano-0.6.0.tar.gz (1.8MB):   6%  122kB\r",
        "  Downloading Theano-0.6.0.tar.gz (1.8MB):   7%  126kB\r",
        "  Downloading Theano-0.6.0.tar.gz (1.8MB):   7%  131kB\r",
        "  Downloading Theano-0.6.0.tar.gz (1.8MB):   7%  135kB\r",
        "  Downloading Theano-0.6.0.tar.gz (1.8MB):   7%  139kB\r",
        "  Downloading Theano-0.6.0.tar.gz (1.8MB):   8%  143kB\r",
        "  Downloading Theano-0.6.0.tar.gz (1.8MB):   8%  147kB\r",
        "  Downloading Theano-0.6.0.tar.gz (1.8MB):   8%  151kB\r",
        "  Downloading Theano-0.6.0.tar.gz (1.8MB):   8%  155kB\r",
        "  Downloading Theano-0.6.0.tar.gz (1.8MB):   9%  159kB\r",
        "  Downloading Theano-0.6.0.tar.gz (1.8MB):   9%  163kB\r",
        "  Downloading Theano-0.6.0.tar.gz (1.8MB):   9%  167kB\r",
        "  Downloading Theano-0.6.0.tar.gz (1.8MB):   9%  172kB\r",
        "  Downloading Theano-0.6.0.tar.gz (1.8MB):   9%  176kB\r",
        "  Downloading Theano-0.6.0.tar.gz (1.8MB):  10%  180kB\r",
        "  Downloading Theano-0.6.0.tar.gz (1.8MB):  10%  184kB\r",
        "  Downloading Theano-0.6.0.tar.gz (1.8MB):  10%  188kB\r",
        "  Downloading Theano-0.6.0.tar.gz (1.8MB):  10%  192kB\r",
        "  Downloading Theano-0.6.0.tar.gz (1.8MB):  11%  196kB\r",
        "  Downloading Theano-0.6.0.tar.gz (1.8MB):  11%  200kB\r",
        "  Downloading Theano-0.6.0.tar.gz (1.8MB):  11%  204kB\r",
        "  Downloading Theano-0.6.0.tar.gz (1.8MB):  11%  208kB\r",
        "  Downloading Theano-0.6.0.tar.gz (1.8MB):  12%  212kB\r",
        "  Downloading Theano-0.6.0.tar.gz (1.8MB):  12%  217kB\r",
        "  Downloading Theano-0.6.0.tar.gz (1.8MB):  12%  221kB\r",
        "  Downloading Theano-0.6.0.tar.gz (1.8MB):  12%  225kB\r",
        "  Downloading Theano-0.6.0.tar.gz (1.8MB):  13%  229kB\r",
        "  Downloading Theano-0.6.0.tar.gz (1.8MB):  13%  233kB\r",
        "  Downloading Theano-0.6.0.tar.gz (1.8MB):  13%  237kB\r",
        "  Downloading Theano-0.6.0.tar.gz (1.8MB):  13%  241kB\r",
        "  Downloading Theano-0.6.0.tar.gz (1.8MB):  13%  245kB\r",
        "  Downloading Theano-0.6.0.tar.gz (1.8MB):  14%  249kB\r",
        "  Downloading Theano-0.6.0.tar.gz (1.8MB):  14%  253kB\r",
        "  Downloading Theano-0.6.0.tar.gz (1.8MB):  14%  258kB\r",
        "  Downloading Theano-0.6.0.tar.gz (1.8MB):  14%  262kB\r",
        "  Downloading Theano-0.6.0.tar.gz (1.8MB):  15%  266kB\r",
        "  Downloading Theano-0.6.0.tar.gz (1.8MB):  15%  270kB\r",
        "  Downloading Theano-0.6.0.tar.gz (1.8MB):  15%  274kB\r",
        "  Downloading Theano-0.6.0.tar.gz (1.8MB):  15%  278kB\r",
        "  Downloading Theano-0.6.0.tar.gz (1.8MB):  16%  282kB\r",
        "  Downloading Theano-0.6.0.tar.gz (1.8MB):  16%  286kB\r",
        "  Downloading Theano-0.6.0.tar.gz (1.8MB):  16%  290kB\r",
        "  Downloading Theano-0.6.0.tar.gz (1.8MB):  16%  294kB\r",
        "  Downloading Theano-0.6.0.tar.gz (1.8MB):  16%  299kB\r",
        "  Downloading Theano-0.6.0.tar.gz (1.8MB):  17%  303kB\r",
        "  Downloading Theano-0.6.0.tar.gz (1.8MB):  17%  307kB\r",
        "  Downloading Theano-0.6.0.tar.gz (1.8MB):  17%  311kB\r",
        "  Downloading Theano-0.6.0.tar.gz (1.8MB):  17%  315kB\r",
        "  Downloading Theano-0.6.0.tar.gz (1.8MB):  18%  319kB\r",
        "  Downloading Theano-0.6.0.tar.gz (1.8MB):  18%  323kB\r",
        "  Downloading Theano-0.6.0.tar.gz (1.8MB):  18%  327kB\r",
        "  Downloading Theano-0.6.0.tar.gz (1.8MB):  18%  331kB\r",
        "  Downloading Theano-0.6.0.tar.gz (1.8MB):  19%  335kB\r",
        "  Downloading Theano-0.6.0.tar.gz (1.8MB):  19%  339kB\r",
        "  Downloading Theano-0.6.0.tar.gz (1.8MB):  19%  344kB\r",
        "  Downloading Theano-0.6.0.tar.gz (1.8MB):  19%  348kB\r",
        "  Downloading Theano-0.6.0.tar.gz (1.8MB):  19%  352kB\r",
        "  Downloading Theano-0.6.0.tar.gz (1.8MB):  20%  356kB\r",
        "  Downloading Theano-0.6.0.tar.gz (1.8MB):  20%  360kB\r",
        "  Downloading Theano-0.6.0.tar.gz (1.8MB):  20%  364kB\r",
        "  Downloading Theano-0.6.0.tar.gz (1.8MB):  20%  368kB\r",
        "  Downloading Theano-0.6.0.tar.gz (1.8MB):  21%  372kB\r",
        "  Downloading Theano-0.6.0.tar.gz (1.8MB):  21%  376kB\r",
        "  Downloading Theano-0.6.0.tar.gz (1.8MB):  21%  380kB\r",
        "  Downloading Theano-0.6.0.tar.gz (1.8MB):  21%  385kB\r",
        "  Downloading Theano-0.6.0.tar.gz (1.8MB):  22%  389kB\r",
        "  Downloading Theano-0.6.0.tar.gz (1.8MB):  22%  393kB\r",
        "  Downloading Theano-0.6.0.tar.gz (1.8MB):  22%  397kB\r",
        "  Downloading Theano-0.6.0.tar.gz (1.8MB):  22%  401kB\r",
        "  Downloading Theano-0.6.0.tar.gz (1.8MB):  22%  405kB\r",
        "  Downloading Theano-0.6.0.tar.gz (1.8MB):  23%  409kB\r",
        "  Downloading Theano-0.6.0.tar.gz (1.8MB):  23%  413kB\r",
        "  Downloading Theano-0.6.0.tar.gz (1.8MB):  23%  417kB\r",
        "  Downloading Theano-0.6.0.tar.gz (1.8MB):  23%  421kB\r",
        "  Downloading Theano-0.6.0.tar.gz (1.8MB):  24%  425kB\r",
        "  Downloading Theano-0.6.0.tar.gz (1.8MB):  24%  430kB\r",
        "  Downloading Theano-0.6.0.tar.gz (1.8MB):  24%  434kB\r",
        "  Downloading Theano-0.6.0.tar.gz (1.8MB):  24%  438kB\r",
        "  Downloading Theano-0.6.0.tar.gz (1.8MB):  25%  442kB\r",
        "  Downloading Theano-0.6.0.tar.gz (1.8MB):  25%  446kB\r",
        "  Downloading Theano-0.6.0.tar.gz (1.8MB):  25%  450kB\r",
        "  Downloading Theano-0.6.0.tar.gz (1.8MB):  25%  454kB\r",
        "  Downloading Theano-0.6.0.tar.gz (1.8MB):  26%  458kB\r",
        "  Downloading Theano-0.6.0.tar.gz (1.8MB):  26%  462kB\r",
        "  Downloading Theano-0.6.0.tar.gz (1.8MB):  26%  466kB\r",
        "  Downloading Theano-0.6.0.tar.gz (1.8MB):  26%  471kB\r",
        "  Downloading Theano-0.6.0.tar.gz (1.8MB):  26%  475kB\r",
        "  Downloading Theano-0.6.0.tar.gz (1.8MB):  27%  479kB\r",
        "  Downloading Theano-0.6.0.tar.gz (1.8MB):  27%  483kB\r",
        "  Downloading Theano-0.6.0.tar.gz (1.8MB):  27%  487kB\r",
        "  Downloading Theano-0.6.0.tar.gz (1.8MB):  27%  491kB\r",
        "  Downloading Theano-0.6.0.tar.gz (1.8MB):  28%  495kB\r",
        "  Downloading Theano-0.6.0.tar.gz (1.8MB):  28%  499kB\r",
        "  Downloading Theano-0.6.0.tar.gz (1.8MB):  28%  503kB\r",
        "  Downloading Theano-0.6.0.tar.gz (1.8MB):  28%  507kB\r",
        "  Downloading Theano-0.6.0.tar.gz (1.8MB):  29%  512kB\r",
        "  Downloading Theano-0.6.0.tar.gz (1.8MB):  29%  516kB\r",
        "  Downloading Theano-0.6.0.tar.gz (1.8MB):  29%  520kB\r",
        "  Downloading Theano-0.6.0.tar.gz (1.8MB):  29%  524kB\r",
        "  Downloading Theano-0.6.0.tar.gz (1.8MB):  29%  528kB\r",
        "  Downloading Theano-0.6.0.tar.gz (1.8MB):  30%  532kB\r",
        "  Downloading Theano-0.6.0.tar.gz (1.8MB):  30%  536kB\r",
        "  Downloading Theano-0.6.0.tar.gz (1.8MB):  30%  540kB\r",
        "  Downloading Theano-0.6.0.tar.gz (1.8MB):  30%  544kB\r",
        "  Downloading Theano-0.6.0.tar.gz (1.8MB):  31%  548kB\r",
        "  Downloading Theano-0.6.0.tar.gz (1.8MB):  31%  552kB\r",
        "  Downloading Theano-0.6.0.tar.gz (1.8MB):  31%  557kB\r",
        "  Downloading Theano-0.6.0.tar.gz (1.8MB):  31%  561kB\r",
        "  Downloading Theano-0.6.0.tar.gz (1.8MB):  32%  565kB\r",
        "  Downloading Theano-0.6.0.tar.gz (1.8MB):  32%  569kB\r",
        "  Downloading Theano-0.6.0.tar.gz (1.8MB):  32%  573kB\r",
        "  Downloading Theano-0.6.0.tar.gz (1.8MB):  32%  577kB\r",
        "  Downloading Theano-0.6.0.tar.gz (1.8MB):  32%  581kB\r",
        "  Downloading Theano-0.6.0.tar.gz (1.8MB):  33%  585kB\r",
        "  Downloading Theano-0.6.0.tar.gz (1.8MB):  33%  589kB\r",
        "  Downloading Theano-0.6.0.tar.gz (1.8MB):  33%  593kB\r",
        "  Downloading Theano-0.6.0.tar.gz (1.8MB):  33%  598kB\r",
        "  Downloading Theano-0.6.0.tar.gz (1.8MB):  34%  602kB\r",
        "  Downloading Theano-0.6.0.tar.gz (1.8MB):  34%  606kB\r",
        "  Downloading Theano-0.6.0.tar.gz (1.8MB):  34%  610kB\r",
        "  Downloading Theano-0.6.0.tar.gz (1.8MB):  34%  614kB\r",
        "  Downloading Theano-0.6.0.tar.gz (1.8MB):  35%  618kB\r",
        "  Downloading Theano-0.6.0.tar.gz (1.8MB):  35%  622kB\r",
        "  Downloading Theano-0.6.0.tar.gz (1.8MB):  35%  626kB\r",
        "  Downloading Theano-0.6.0.tar.gz (1.8MB):  35%  630kB\r",
        "  Downloading Theano-0.6.0.tar.gz (1.8MB):  35%  634kB\r",
        "  Downloading Theano-0.6.0.tar.gz (1.8MB):  36%  638kB\r",
        "  Downloading Theano-0.6.0.tar.gz (1.8MB):  36%  643kB\r",
        "  Downloading Theano-0.6.0.tar.gz (1.8MB):  36%  647kB\r",
        "  Downloading Theano-0.6.0.tar.gz (1.8MB):  36%  651kB\r",
        "  Downloading Theano-0.6.0.tar.gz (1.8MB):  37%  655kB\r",
        "  Downloading Theano-0.6.0.tar.gz (1.8MB):  37%  659kB\r",
        "  Downloading Theano-0.6.0.tar.gz (1.8MB):  37%  663kB\r",
        "  Downloading Theano-0.6.0.tar.gz (1.8MB):  37%  667kB\r",
        "  Downloading Theano-0.6.0.tar.gz (1.8MB):  38%  671kB\r",
        "  Downloading Theano-0.6.0.tar.gz (1.8MB):  38%  675kB\r",
        "  Downloading Theano-0.6.0.tar.gz (1.8MB):  38%  679kB\r",
        "  Downloading Theano-0.6.0.tar.gz (1.8MB):  38%  684kB\r",
        "  Downloading Theano-0.6.0.tar.gz (1.8MB):  39%  688kB\r",
        "  Downloading Theano-0.6.0.tar.gz (1.8MB):  39%  692kB\r",
        "  Downloading Theano-0.6.0.tar.gz (1.8MB):  39%  696kB\r",
        "  Downloading Theano-0.6.0.tar.gz (1.8MB):  39%  700kB\r",
        "  Downloading Theano-0.6.0.tar.gz (1.8MB):  39%  704kB\r",
        "  Downloading Theano-0.6.0.tar.gz (1.8MB):  40%  708kB\r",
        "  Downloading Theano-0.6.0.tar.gz (1.8MB):  40%  712kB\r",
        "  Downloading Theano-0.6.0.tar.gz (1.8MB):  40%  716kB\r",
        "  Downloading Theano-0.6.0.tar.gz (1.8MB):  40%  720kB\r",
        "  Downloading Theano-0.6.0.tar.gz (1.8MB):  41%  724kB\r",
        "  Downloading Theano-0.6.0.tar.gz (1.8MB):  41%  729kB\r",
        "  Downloading Theano-0.6.0.tar.gz (1.8MB):  41%  733kB\r",
        "  Downloading Theano-0.6.0.tar.gz (1.8MB):  41%  737kB\r",
        "  Downloading Theano-0.6.0.tar.gz (1.8MB):  42%  741kB\r",
        "  Downloading Theano-0.6.0.tar.gz (1.8MB):  42%  745kB\r",
        "  Downloading Theano-0.6.0.tar.gz (1.8MB):  42%  749kB\r",
        "  Downloading Theano-0.6.0.tar.gz (1.8MB):  42%  753kB\r",
        "  Downloading Theano-0.6.0.tar.gz (1.8MB):  42%  757kB\r",
        "  Downloading Theano-0.6.0.tar.gz (1.8MB):  43%  761kB\r",
        "  Downloading Theano-0.6.0.tar.gz (1.8MB):  43%  765kB\r",
        "  Downloading Theano-0.6.0.tar.gz (1.8MB):  43%  770kB\r",
        "  Downloading Theano-0.6.0.tar.gz (1.8MB):  43%  774kB\r",
        "  Downloading Theano-0.6.0.tar.gz (1.8MB):  44%  778kB\r",
        "  Downloading Theano-0.6.0.tar.gz (1.8MB):  44%  782kB\r",
        "  Downloading Theano-0.6.0.tar.gz (1.8MB):  44%  786kB\r",
        "  Downloading Theano-0.6.0.tar.gz (1.8MB):  44%  790kB\r",
        "  Downloading Theano-0.6.0.tar.gz (1.8MB):  45%  794kB\r",
        "  Downloading Theano-0.6.0.tar.gz (1.8MB):  45%  798kB\r",
        "  Downloading Theano-0.6.0.tar.gz (1.8MB):  45%  802kB\r",
        "  Downloading Theano-0.6.0.tar.gz (1.8MB):  45%  806kB\r",
        "  Downloading Theano-0.6.0.tar.gz (1.8MB):  45%  811kB\r",
        "  Downloading Theano-0.6.0.tar.gz (1.8MB):  46%  815kB\r",
        "  Downloading Theano-0.6.0.tar.gz (1.8MB):  46%  819kB\r",
        "  Downloading Theano-0.6.0.tar.gz (1.8MB):  46%  823kB\r",
        "  Downloading Theano-0.6.0.tar.gz (1.8MB):  46%  827kB\r",
        "  Downloading Theano-0.6.0.tar.gz (1.8MB):  47%  831kB\r",
        "  Downloading Theano-0.6.0.tar.gz (1.8MB):  47%  835kB\r",
        "  Downloading Theano-0.6.0.tar.gz (1.8MB):  47%  839kB\r",
        "  Downloading Theano-0.6.0.tar.gz (1.8MB):  47%  843kB\r",
        "  Downloading Theano-0.6.0.tar.gz (1.8MB):  48%  847kB\r",
        "  Downloading Theano-0.6.0.tar.gz (1.8MB):  48%  851kB\r",
        "  Downloading Theano-0.6.0.tar.gz (1.8MB):  48%  856kB"
       ]
      },
      {
       "output_type": "stream",
       "stream": "stdout",
       "text": [
        "\r",
        "  Downloading Theano-0.6.0.tar.gz (1.8MB):  48%  860kB\r",
        "  Downloading Theano-0.6.0.tar.gz (1.8MB):  49%  864kB\r",
        "  Downloading Theano-0.6.0.tar.gz (1.8MB):  49%  868kB\r",
        "  Downloading Theano-0.6.0.tar.gz (1.8MB):  49%  872kB\r",
        "  Downloading Theano-0.6.0.tar.gz (1.8MB):  49%  876kB\r",
        "  Downloading Theano-0.6.0.tar.gz (1.8MB):  49%  880kB\r",
        "  Downloading Theano-0.6.0.tar.gz (1.8MB):  50%  884kB\r",
        "  Downloading Theano-0.6.0.tar.gz (1.8MB):  50%  888kB\r",
        "  Downloading Theano-0.6.0.tar.gz (1.8MB):  50%  892kB\r",
        "  Downloading Theano-0.6.0.tar.gz (1.8MB):  50%  897kB\r",
        "  Downloading Theano-0.6.0.tar.gz (1.8MB):  51%  901kB\r",
        "  Downloading Theano-0.6.0.tar.gz (1.8MB):  51%  905kB\r",
        "  Downloading Theano-0.6.0.tar.gz (1.8MB):  51%  909kB\r",
        "  Downloading Theano-0.6.0.tar.gz (1.8MB):  51%  913kB\r",
        "  Downloading Theano-0.6.0.tar.gz (1.8MB):  52%  917kB\r",
        "  Downloading Theano-0.6.0.tar.gz (1.8MB):  52%  921kB\r",
        "  Downloading Theano-0.6.0.tar.gz (1.8MB):  52%  925kB\r",
        "  Downloading Theano-0.6.0.tar.gz (1.8MB):  52%  929kB\r",
        "  Downloading Theano-0.6.0.tar.gz (1.8MB):  52%  933kB\r",
        "  Downloading Theano-0.6.0.tar.gz (1.8MB):  53%  937kB\r",
        "  Downloading Theano-0.6.0.tar.gz (1.8MB):  53%  942kB\r",
        "  Downloading Theano-0.6.0.tar.gz (1.8MB):  53%  946kB\r",
        "  Downloading Theano-0.6.0.tar.gz (1.8MB):  53%  950kB\r",
        "  Downloading Theano-0.6.0.tar.gz (1.8MB):  54%  954kB\r",
        "  Downloading Theano-0.6.0.tar.gz (1.8MB):  54%  958kB\r",
        "  Downloading Theano-0.6.0.tar.gz (1.8MB):  54%  962kB\r",
        "  Downloading Theano-0.6.0.tar.gz (1.8MB):  54%  966kB\r",
        "  Downloading Theano-0.6.0.tar.gz (1.8MB):  55%  970kB\r",
        "  Downloading Theano-0.6.0.tar.gz (1.8MB):  55%  974kB\r",
        "  Downloading Theano-0.6.0.tar.gz (1.8MB):  55%  978kB\r",
        "  Downloading Theano-0.6.0.tar.gz (1.8MB):  55%  983kB\r",
        "  Downloading Theano-0.6.0.tar.gz (1.8MB):  55%  987kB\r",
        "  Downloading Theano-0.6.0.tar.gz (1.8MB):  56%  991kB\r",
        "  Downloading Theano-0.6.0.tar.gz (1.8MB):  56%  995kB\r",
        "  Downloading Theano-0.6.0.tar.gz (1.8MB):  56%  999kB\r",
        "  Downloading Theano-0.6.0.tar.gz (1.8MB):  56%  1.0MB\r",
        "  Downloading Theano-0.6.0.tar.gz (1.8MB):  57%  1.0MB\r",
        "  Downloading Theano-0.6.0.tar.gz (1.8MB):  57%  1.0MB\r",
        "  Downloading Theano-0.6.0.tar.gz (1.8MB):  57%  1.0MB\r",
        "  Downloading Theano-0.6.0.tar.gz (1.8MB):  57%  1.0MB\r",
        "  Downloading Theano-0.6.0.tar.gz (1.8MB):  58%  1.0MB\r",
        "  Downloading Theano-0.6.0.tar.gz (1.8MB):  58%  1.0MB\r",
        "  Downloading Theano-0.6.0.tar.gz (1.8MB):  58%  1.0MB\r",
        "  Downloading Theano-0.6.0.tar.gz (1.8MB):  58%  1.0MB\r",
        "  Downloading Theano-0.6.0.tar.gz (1.8MB):  58%  1.0MB\r",
        "  Downloading Theano-0.6.0.tar.gz (1.8MB):  59%  1.0MB\r",
        "  Downloading Theano-0.6.0.tar.gz (1.8MB):  59%  1.0MB\r",
        "  Downloading Theano-0.6.0.tar.gz (1.8MB):  59%  1.1MB\r",
        "  Downloading Theano-0.6.0.tar.gz (1.8MB):  59%  1.1MB\r",
        "  Downloading Theano-0.6.0.tar.gz (1.8MB):  60%  1.1MB\r",
        "  Downloading Theano-0.6.0.tar.gz (1.8MB):  60%  1.1MB\r",
        "  Downloading Theano-0.6.0.tar.gz (1.8MB):  60%  1.1MB\r",
        "  Downloading Theano-0.6.0.tar.gz (1.8MB):  60%  1.1MB\r",
        "  Downloading Theano-0.6.0.tar.gz (1.8MB):  61%  1.1MB\r",
        "  Downloading Theano-0.6.0.tar.gz (1.8MB):  61%  1.1MB\r",
        "  Downloading Theano-0.6.0.tar.gz (1.8MB):  61%  1.1MB\r",
        "  Downloading Theano-0.6.0.tar.gz (1.8MB):  61%  1.1MB\r",
        "  Downloading Theano-0.6.0.tar.gz (1.8MB):  62%  1.1MB\r",
        "  Downloading Theano-0.6.0.tar.gz (1.8MB):  62%  1.1MB\r",
        "  Downloading Theano-0.6.0.tar.gz (1.8MB):  62%  1.1MB\r",
        "  Downloading Theano-0.6.0.tar.gz (1.8MB):  62%  1.1MB\r",
        "  Downloading Theano-0.6.0.tar.gz (1.8MB):  62%  1.1MB\r",
        "  Downloading Theano-0.6.0.tar.gz (1.8MB):  63%  1.1MB\r",
        "  Downloading Theano-0.6.0.tar.gz (1.8MB):  63%  1.1MB\r",
        "  Downloading Theano-0.6.0.tar.gz (1.8MB):  63%  1.1MB\r",
        "  Downloading Theano-0.6.0.tar.gz (1.8MB):  63%  1.1MB\r",
        "  Downloading Theano-0.6.0.tar.gz (1.8MB):  64%  1.1MB\r",
        "  Downloading Theano-0.6.0.tar.gz (1.8MB):  64%  1.1MB\r",
        "  Downloading Theano-0.6.0.tar.gz (1.8MB):  64%  1.1MB\r",
        "  Downloading Theano-0.6.0.tar.gz (1.8MB):  64%  1.1MB\r",
        "  Downloading Theano-0.6.0.tar.gz (1.8MB):  65%  1.1MB\r",
        "  Downloading Theano-0.6.0.tar.gz (1.8MB):  65%  1.2MB\r",
        "  Downloading Theano-0.6.0.tar.gz (1.8MB):  65%  1.2MB\r",
        "  Downloading Theano-0.6.0.tar.gz (1.8MB):  65%  1.2MB\r",
        "  Downloading Theano-0.6.0.tar.gz (1.8MB):  65%  1.2MB\r",
        "  Downloading Theano-0.6.0.tar.gz (1.8MB):  66%  1.2MB\r",
        "  Downloading Theano-0.6.0.tar.gz (1.8MB):  66%  1.2MB\r",
        "  Downloading Theano-0.6.0.tar.gz (1.8MB):  66%  1.2MB\r",
        "  Downloading Theano-0.6.0.tar.gz (1.8MB):  66%  1.2MB\r",
        "  Downloading Theano-0.6.0.tar.gz (1.8MB):  67%  1.2MB\r",
        "  Downloading Theano-0.6.0.tar.gz (1.8MB):  67%  1.2MB\r",
        "  Downloading Theano-0.6.0.tar.gz (1.8MB):  67%  1.2MB\r",
        "  Downloading Theano-0.6.0.tar.gz (1.8MB):  67%  1.2MB\r",
        "  Downloading Theano-0.6.0.tar.gz (1.8MB):  68%  1.2MB\r",
        "  Downloading Theano-0.6.0.tar.gz (1.8MB):  68%  1.2MB\r",
        "  Downloading Theano-0.6.0.tar.gz (1.8MB):  68%  1.2MB\r",
        "  Downloading Theano-0.6.0.tar.gz (1.8MB):  68%  1.2MB\r",
        "  Downloading Theano-0.6.0.tar.gz (1.8MB):  68%  1.2MB\r",
        "  Downloading Theano-0.6.0.tar.gz (1.8MB):  69%  1.2MB\r",
        "  Downloading Theano-0.6.0.tar.gz (1.8MB):  69%  1.2MB\r",
        "  Downloading Theano-0.6.0.tar.gz (1.8MB):  69%  1.2MB\r",
        "  Downloading Theano-0.6.0.tar.gz (1.8MB):  69%  1.2MB\r",
        "  Downloading Theano-0.6.0.tar.gz (1.8MB):  70%  1.2MB\r",
        "  Downloading Theano-0.6.0.tar.gz (1.8MB):  70%  1.2MB\r",
        "  Downloading Theano-0.6.0.tar.gz (1.8MB):  70%  1.2MB\r",
        "  Downloading Theano-0.6.0.tar.gz (1.8MB):  70%  1.2MB\r",
        "  Downloading Theano-0.6.0.tar.gz (1.8MB):  71%  1.3MB\r",
        "  Downloading Theano-0.6.0.tar.gz (1.8MB):  71%  1.3MB\r",
        "  Downloading Theano-0.6.0.tar.gz (1.8MB):  71%  1.3MB\r",
        "  Downloading Theano-0.6.0.tar.gz (1.8MB):  71%  1.3MB\r",
        "  Downloading Theano-0.6.0.tar.gz (1.8MB):  71%  1.3MB\r",
        "  Downloading Theano-0.6.0.tar.gz (1.8MB):  72%  1.3MB\r",
        "  Downloading Theano-0.6.0.tar.gz (1.8MB):  72%  1.3MB\r",
        "  Downloading Theano-0.6.0.tar.gz (1.8MB):  72%  1.3MB\r",
        "  Downloading Theano-0.6.0.tar.gz (1.8MB):  72%  1.3MB\r",
        "  Downloading Theano-0.6.0.tar.gz (1.8MB):  73%  1.3MB\r",
        "  Downloading Theano-0.6.0.tar.gz (1.8MB):  73%  1.3MB\r",
        "  Downloading Theano-0.6.0.tar.gz (1.8MB):  73%  1.3MB\r",
        "  Downloading Theano-0.6.0.tar.gz (1.8MB):  73%  1.3MB\r",
        "  Downloading Theano-0.6.0.tar.gz (1.8MB):  74%  1.3MB\r",
        "  Downloading Theano-0.6.0.tar.gz (1.8MB):  74%  1.3MB\r",
        "  Downloading Theano-0.6.0.tar.gz (1.8MB):  74%  1.3MB\r",
        "  Downloading Theano-0.6.0.tar.gz (1.8MB):  74%  1.3MB\r",
        "  Downloading Theano-0.6.0.tar.gz (1.8MB):  75%  1.3MB\r",
        "  Downloading Theano-0.6.0.tar.gz (1.8MB):  75%  1.3MB\r",
        "  Downloading Theano-0.6.0.tar.gz (1.8MB):  75%  1.3MB\r",
        "  Downloading Theano-0.6.0.tar.gz (1.8MB):  75%  1.3MB\r",
        "  Downloading Theano-0.6.0.tar.gz (1.8MB):  75%  1.3MB\r",
        "  Downloading Theano-0.6.0.tar.gz (1.8MB):  76%  1.3MB\r",
        "  Downloading Theano-0.6.0.tar.gz (1.8MB):  76%  1.3MB\r",
        "  Downloading Theano-0.6.0.tar.gz (1.8MB):  76%  1.4MB\r",
        "  Downloading Theano-0.6.0.tar.gz (1.8MB):  76%  1.4MB\r",
        "  Downloading Theano-0.6.0.tar.gz (1.8MB):  77%  1.4MB\r",
        "  Downloading Theano-0.6.0.tar.gz (1.8MB):  77%  1.4MB\r",
        "  Downloading Theano-0.6.0.tar.gz (1.8MB):  77%  1.4MB\r",
        "  Downloading Theano-0.6.0.tar.gz (1.8MB):  77%  1.4MB\r",
        "  Downloading Theano-0.6.0.tar.gz (1.8MB):  78%  1.4MB\r",
        "  Downloading Theano-0.6.0.tar.gz (1.8MB):  78%  1.4MB\r",
        "  Downloading Theano-0.6.0.tar.gz (1.8MB):  78%  1.4MB\r",
        "  Downloading Theano-0.6.0.tar.gz (1.8MB):  78%  1.4MB\r",
        "  Downloading Theano-0.6.0.tar.gz (1.8MB):  78%  1.4MB\r",
        "  Downloading Theano-0.6.0.tar.gz (1.8MB):  79%  1.4MB\r",
        "  Downloading Theano-0.6.0.tar.gz (1.8MB):  79%  1.4MB\r",
        "  Downloading Theano-0.6.0.tar.gz (1.8MB):  79%  1.4MB\r",
        "  Downloading Theano-0.6.0.tar.gz (1.8MB):  79%  1.4MB\r",
        "  Downloading Theano-0.6.0.tar.gz (1.8MB):  80%  1.4MB\r",
        "  Downloading Theano-0.6.0.tar.gz (1.8MB):  80%  1.4MB\r",
        "  Downloading Theano-0.6.0.tar.gz (1.8MB):  80%  1.4MB\r",
        "  Downloading Theano-0.6.0.tar.gz (1.8MB):  80%  1.4MB\r",
        "  Downloading Theano-0.6.0.tar.gz (1.8MB):  81%  1.4MB\r",
        "  Downloading Theano-0.6.0.tar.gz (1.8MB):  81%  1.4MB\r",
        "  Downloading Theano-0.6.0.tar.gz (1.8MB):  81%  1.4MB\r",
        "  Downloading Theano-0.6.0.tar.gz (1.8MB):  81%  1.4MB\r",
        "  Downloading Theano-0.6.0.tar.gz (1.8MB):  81%  1.4MB\r",
        "  Downloading Theano-0.6.0.tar.gz (1.8MB):  82%  1.4MB\r",
        "  Downloading Theano-0.6.0.tar.gz (1.8MB):  82%  1.5MB\r",
        "  Downloading Theano-0.6.0.tar.gz (1.8MB):  82%  1.5MB\r",
        "  Downloading Theano-0.6.0.tar.gz (1.8MB):  82%  1.5MB\r",
        "  Downloading Theano-0.6.0.tar.gz (1.8MB):  83%  1.5MB\r",
        "  Downloading Theano-0.6.0.tar.gz (1.8MB):  83%  1.5MB\r",
        "  Downloading Theano-0.6.0.tar.gz (1.8MB):  83%  1.5MB\r",
        "  Downloading Theano-0.6.0.tar.gz (1.8MB):  83%  1.5MB\r",
        "  Downloading Theano-0.6.0.tar.gz (1.8MB):  84%  1.5MB\r",
        "  Downloading Theano-0.6.0.tar.gz (1.8MB):  84%  1.5MB\r",
        "  Downloading Theano-0.6.0.tar.gz (1.8MB):  84%  1.5MB\r",
        "  Downloading Theano-0.6.0.tar.gz (1.8MB):  84%  1.5MB\r",
        "  Downloading Theano-0.6.0.tar.gz (1.8MB):  84%  1.5MB\r",
        "  Downloading Theano-0.6.0.tar.gz (1.8MB):  85%  1.5MB\r",
        "  Downloading Theano-0.6.0.tar.gz (1.8MB):  85%  1.5MB\r",
        "  Downloading Theano-0.6.0.tar.gz (1.8MB):  85%  1.5MB\r",
        "  Downloading Theano-0.6.0.tar.gz (1.8MB):  85%  1.5MB\r",
        "  Downloading Theano-0.6.0.tar.gz (1.8MB):  86%  1.5MB\r",
        "  Downloading Theano-0.6.0.tar.gz (1.8MB):  86%  1.5MB\r",
        "  Downloading Theano-0.6.0.tar.gz (1.8MB):  86%  1.5MB\r",
        "  Downloading Theano-0.6.0.tar.gz (1.8MB):  86%  1.5MB\r",
        "  Downloading Theano-0.6.0.tar.gz (1.8MB):  87%  1.5MB\r",
        "  Downloading Theano-0.6.0.tar.gz (1.8MB):  87%  1.5MB\r",
        "  Downloading Theano-0.6.0.tar.gz (1.8MB):  87%  1.5MB\r",
        "  Downloading Theano-0.6.0.tar.gz (1.8MB):  87%  1.5MB\r",
        "  Downloading Theano-0.6.0.tar.gz (1.8MB):  88%  1.6MB\r",
        "  Downloading Theano-0.6.0.tar.gz (1.8MB):  88%  1.6MB\r",
        "  Downloading Theano-0.6.0.tar.gz (1.8MB):  88%  1.6MB\r",
        "  Downloading Theano-0.6.0.tar.gz (1.8MB):  88%  1.6MB\r",
        "  Downloading Theano-0.6.0.tar.gz (1.8MB):  88%  1.6MB\r",
        "  Downloading Theano-0.6.0.tar.gz (1.8MB):  89%  1.6MB\r",
        "  Downloading Theano-0.6.0.tar.gz (1.8MB):  89%  1.6MB\r",
        "  Downloading Theano-0.6.0.tar.gz (1.8MB):  89%  1.6MB\r",
        "  Downloading Theano-0.6.0.tar.gz (1.8MB):  89%  1.6MB\r",
        "  Downloading Theano-0.6.0.tar.gz (1.8MB):  90%  1.6MB\r",
        "  Downloading Theano-0.6.0.tar.gz (1.8MB):  90%  1.6MB\r",
        "  Downloading Theano-0.6.0.tar.gz (1.8MB):  90%  1.6MB\r",
        "  Downloading Theano-0.6.0.tar.gz (1.8MB):  90%  1.6MB\r",
        "  Downloading Theano-0.6.0.tar.gz (1.8MB):  91%  1.6MB\r",
        "  Downloading Theano-0.6.0.tar.gz (1.8MB):  91%  1.6MB\r",
        "  Downloading Theano-0.6.0.tar.gz (1.8MB):  91%  1.6MB\r",
        "  Downloading Theano-0.6.0.tar.gz (1.8MB):  91%  1.6MB\r",
        "  Downloading Theano-0.6.0.tar.gz (1.8MB):  91%  1.6MB\r",
        "  Downloading Theano-0.6.0.tar.gz (1.8MB):  92%  1.6MB\r",
        "  Downloading Theano-0.6.0.tar.gz (1.8MB):  92%  1.6MB\r",
        "  Downloading Theano-0.6.0.tar.gz (1.8MB):  92%  1.6MB\r",
        "  Downloading Theano-0.6.0.tar.gz (1.8MB):  92%  1.6MB\r",
        "  Downloading Theano-0.6.0.tar.gz (1.8MB):  93%  1.6MB\r",
        "  Downloading Theano-0.6.0.tar.gz (1.8MB):  93%  1.6MB\r",
        "  Downloading Theano-0.6.0.tar.gz (1.8MB):  93%  1.7MB\r",
        "  Downloading Theano-0.6.0.tar.gz (1.8MB):  93%  1.7MB\r",
        "  Downloading Theano-0.6.0.tar.gz (1.8MB):  94%  1.7MB\r",
        "  Downloading Theano-0.6.0.tar.gz (1.8MB):  94%  1.7MB\r",
        "  Downloading Theano-0.6.0.tar.gz (1.8MB):  94%  1.7MB\r",
        "  Downloading Theano-0.6.0.tar.gz (1.8MB):  94%  1.7MB\r",
        "  Downloading Theano-0.6.0.tar.gz (1.8MB):  94%  1.7MB\r",
        "  Downloading Theano-0.6.0.tar.gz (1.8MB):  95%  1.7MB\r",
        "  Downloading Theano-0.6.0.tar.gz (1.8MB):  95%  1.7MB\r",
        "  Downloading Theano-0.6.0.tar.gz (1.8MB):  95%  1.7MB\r",
        "  Downloading Theano-0.6.0.tar.gz (1.8MB):  95%  1.7MB\r",
        "  Downloading Theano-0.6.0.tar.gz (1.8MB):  96%  1.7MB\r",
        "  Downloading Theano-0.6.0.tar.gz (1.8MB):  96%  1.7MB\r",
        "  Downloading Theano-0.6.0.tar.gz (1.8MB):  96%  1.7MB\r",
        "  Downloading Theano-0.6.0.tar.gz (1.8MB):  96%  1.7MB\r",
        "  Downloading Theano-0.6.0.tar.gz (1.8MB):  97%  1.7MB\r",
        "  Downloading Theano-0.6.0.tar.gz (1.8MB):  97%  1.7MB\r",
        "  Downloading Theano-0.6.0.tar.gz (1.8MB):  97%  1.7MB\r",
        "  Downloading Theano-0.6.0.tar.gz (1.8MB):  97%  1.7MB\r",
        "  Downloading Theano-0.6.0.tar.gz (1.8MB):  98%  1.7MB\r",
        "  Downloading Theano-0.6.0.tar.gz (1.8MB):  98%  1.7MB\r",
        "  Downloading Theano-0.6.0.tar.gz (1.8MB):  98%  1.7MB\r",
        "  Downloading Theano-0.6.0.tar.gz (1.8MB):  98%  1.7MB\r",
        "  Downloading Theano-0.6.0.tar.gz (1.8MB):  98%  1.7MB\r",
        "  Downloading Theano-0.6.0.tar.gz (1.8MB):  99%  1.7MB\r",
        "  Downloading Theano-0.6.0.tar.gz (1.8MB):  99%  1.8MB\r",
        "  Downloading Theano-0.6.0.tar.gz (1.8MB):  99%  1.8MB\r",
        "  Downloading Theano-0.6.0.tar.gz (1.8MB):  99%  1.8MB\r",
        "  Downloading Theano-0.6.0.tar.gz (1.8MB): 100%  1.8MB\r",
        "  Downloading Theano-0.6.0.tar.gz (1.8MB):            \r",
        "  Downloading Theano-0.6.0.tar.gz (1.8MB): 1.8MB downloaded\r\n"
       ]
      },
      {
       "output_type": "stream",
       "stream": "stdout",
       "text": [
        "  Running setup.py (path:/tmp/pip_build_root/Theano/setup.py) egg_info for package Theano\r\n"
       ]
      },
      {
       "output_type": "stream",
       "stream": "stdout",
       "text": [
        "    \r\n"
       ]
      },
      {
       "output_type": "stream",
       "stream": "stdout",
       "text": [
        "    warning: manifest_maker: MANIFEST.in, line 7: 'recursive-include' expects <dir> <pattern1> <pattern2> ...\r\n",
        "    \r\n"
       ]
      },
      {
       "output_type": "stream",
       "stream": "stdout",
       "text": [
        "Requirement already satisfied (use --upgrade to upgrade): numpy>=1.5.0 in /usr/local/lib/python2.7/dist-packages (from Theano)\r\n"
       ]
      },
      {
       "output_type": "stream",
       "stream": "stdout",
       "text": [
        "Requirement already satisfied (use --upgrade to upgrade): scipy>=0.7.2 in /usr/local/lib/python2.7/dist-packages (from Theano)\r\n",
        "Installing collected packages: Theano\r\n",
        "  Running setup.py install for Theano\r\n"
       ]
      },
      {
       "output_type": "stream",
       "stream": "stdout",
       "text": [
        "    changing mode of build/scripts-2.7/theano-cache from 644 to 755\r\n",
        "    changing mode of build/scripts-2.7/theano-nose from 644 to 755\r\n",
        "    changing mode of build/scripts-2.7/theano-test from 644 to 755\r\n"
       ]
      },
      {
       "output_type": "stream",
       "stream": "stdout",
       "text": [
        "    \r\n"
       ]
      },
      {
       "output_type": "stream",
       "stream": "stdout",
       "text": [
        "    warning: manifest_maker: MANIFEST.in, line 7: 'recursive-include' expects <dir> <pattern1> <pattern2> ...\r\n",
        "    \r\n"
       ]
      },
      {
       "output_type": "stream",
       "stream": "stdout",
       "text": [
        "    changing mode of /usr/local/bin/theano-nose to 755\r\n",
        "    changing mode of /usr/local/bin/theano-cache to 755\r\n",
        "    changing mode of /usr/local/bin/theano-test to 755\r\n"
       ]
      },
      {
       "output_type": "stream",
       "stream": "stdout",
       "text": [
        "Successfully installed Theano\r\n",
        "Cleaning up...\r\n"
       ]
      }
     ],
     "prompt_number": 1
    },
    {
     "cell_type": "code",
     "collapsed": false,
     "input": [
      "from theano import *"
     ],
     "language": "python",
     "metadata": {},
     "outputs": [],
     "prompt_number": 2
    },
    {
     "cell_type": "code",
     "collapsed": false,
     "input": [
      "import theano.tensor as T"
     ],
     "language": "python",
     "metadata": {},
     "outputs": [],
     "prompt_number": 3
    },
    {
     "cell_type": "code",
     "collapsed": false,
     "input": [
      "T"
     ],
     "language": "python",
     "metadata": {},
     "outputs": [
      {
       "metadata": {},
       "output_type": "pyout",
       "prompt_number": 4,
       "text": [
        "<module 'theano.tensor' from '/usr/local/lib/python2.7/dist-packages/theano/tensor/__init__.pyc'>"
       ]
      }
     ],
     "prompt_number": 4
    },
    {
     "cell_type": "code",
     "collapsed": false,
     "input": [
      "x = T.dscalar('x')\n",
      "y = T.dscalar('y')\n",
      "z = x + y\n",
      "f = function([x, y], z)"
     ],
     "language": "python",
     "metadata": {},
     "outputs": [],
     "prompt_number": 6
    },
    {
     "cell_type": "code",
     "collapsed": false,
     "input": [
      "f(223497, 3)"
     ],
     "language": "python",
     "metadata": {},
     "outputs": [
      {
       "metadata": {},
       "output_type": "pyout",
       "prompt_number": 9,
       "text": [
        "array(223500.0)"
       ]
      }
     ],
     "prompt_number": 9
    },
    {
     "cell_type": "code",
     "collapsed": false,
     "input": [
      "a = T.dmatrix('a')\n",
      "b = T.dmatrix('b')\n",
      "c = a + b\n",
      "f = function([a, b], c)"
     ],
     "language": "python",
     "metadata": {},
     "outputs": [],
     "prompt_number": 10
    },
    {
     "cell_type": "code",
     "collapsed": false,
     "input": [
      "f([[1, 2], [3, 4]], [[10, 20], [30, 40]])"
     ],
     "language": "python",
     "metadata": {},
     "outputs": [
      {
       "metadata": {},
       "output_type": "pyout",
       "prompt_number": 11,
       "text": [
        "array([[ 11.,  22.],\n",
        "       [ 33.,  44.]])"
       ]
      }
     ],
     "prompt_number": 11
    },
    {
     "cell_type": "code",
     "collapsed": false,
     "input": [
      "import theano\n",
      "a = theano.tensor.vector() # declare variable\n",
      "out = a + a ** 10               # build symbolic expression\n",
      "f = theano.function([a], out)   # compile function\n",
      "print f([0, 1, 2])  # prints `array([0, 2, 1026])`"
     ],
     "language": "python",
     "metadata": {},
     "outputs": [
      {
       "output_type": "stream",
       "stream": "stdout",
       "text": [
        "[    0.     2.  1026.]\n"
       ]
      }
     ],
     "prompt_number": 12
    },
    {
     "cell_type": "code",
     "collapsed": false,
     "input": [
      "# computing logistic functions\n",
      "l = T.dmatrix('l')\n",
      "s = 1 / (1 + T.exp(-l))\n",
      "logistic = function([l], s)\n",
      "result = logistic([[0, 1], [-2, -3]])\n",
      "print result"
     ],
     "language": "python",
     "metadata": {},
     "outputs": [
      {
       "output_type": "stream",
       "stream": "stdout",
       "text": [
        "[[ 0.5         0.73105858]\n",
        " [ 0.11920292  0.04742587]]\n"
       ]
      }
     ],
     "prompt_number": 17
    },
    {
     "cell_type": "code",
     "collapsed": false,
     "input": [
      "plot(result)"
     ],
     "language": "python",
     "metadata": {},
     "outputs": [
      {
       "metadata": {},
       "output_type": "pyout",
       "prompt_number": 18,
       "text": [
        "[<matplotlib.lines.Line2D at 0x551a950>,\n",
        " <matplotlib.lines.Line2D at 0x551abd0>]"
       ]
      },
      {
       "metadata": {},
       "output_type": "display_data",
       "png": "[encoded data removed]",
       "text": [
        "<matplotlib.figure.Figure at 0x53db590>"
       ]
      }
     ],
     "prompt_number": 18
    },
    {
     "cell_type": "code",
     "collapsed": false,
     "input": [],
     "language": "python",
     "metadata": {},
     "outputs": []
    }
   ],
   "metadata": {}
  }
 ]
}